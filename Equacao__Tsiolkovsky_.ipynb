{
  "nbformat": 4,
  "nbformat_minor": 0,
  "metadata": {
    "colab": {
      "name": "Equacao_ Tsiolkovsky .ipynb",
      "provenance": [],
      "authorship_tag": "ABX9TyPH7CXzFoVB+9RAMQEWdKjX",
      "include_colab_link": true
    },
    "kernelspec": {
      "name": "python3",
      "display_name": "Python 3"
    },
    "language_info": {
      "name": "python"
    }
  },
  "cells": [
    {
      "cell_type": "markdown",
      "metadata": {
        "id": "view-in-github",
        "colab_type": "text"
      },
      "source": [
        "<a href=\"https://colab.research.google.com/github/gregorimaia/Engenharia_Aeroespacial/blob/main/Equacao__Tsiolkovsky_.ipynb\" target=\"_parent\"><img src=\"https://colab.research.google.com/assets/colab-badge.svg\" alt=\"Open In Colab\"/></a>"
      ]
    },
    {
      "cell_type": "markdown",
      "source": [
        "##Equação para projeto de lançamento de foguete."
      ],
      "metadata": {
        "id": "ty1ly8CBtJz_"
      }
    },
    {
      "cell_type": "code",
      "execution_count": null,
      "metadata": {
        "id": "plDMnYaKOsmD"
      },
      "outputs": [],
      "source": [
        "from sympy import *\n",
        "g = 9.80665 #Aceleração da gravidade [m/s]\n",
        "MI = float(input('Insira a massa inicial do veículo lançador: '))\n",
        "MF = float(input('Insira a massa final do veículo lançador: '))\n",
        "u = MI/MF\n",
        "Isp = float(input('Insira o impulso específico Isp: '))\n",
        "U_e = Isp * g\n",
        "Delta_V = U_e * ln(u)\n",
        "print('O incremento de velocidade do veículo lançador é ', Delta_V, 'm/s.')\n",
        "if Delta_V>=9000:\n",
        "  print('Este sistema é capaz de alcançar LEO!')\n",
        "else:\n",
        "  print('Este sistema não é capaz de alcançar LEO!')"
      ]
    }
  ]
}