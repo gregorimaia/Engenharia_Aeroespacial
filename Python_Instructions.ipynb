{
  "nbformat": 4,
  "nbformat_minor": 0,
  "metadata": {
    "colab": {
      "name": "Python_Instructions",
      "provenance": [],
      "authorship_tag": "ABX9TyMK8MyS4mCfUu1Y2nafMXY4",
      "include_colab_link": true
    },
    "kernelspec": {
      "name": "python3",
      "display_name": "Python 3"
    },
    "language_info": {
      "name": "python"
    }
  },
  "cells": [
    {
      "cell_type": "markdown",
      "metadata": {
        "id": "view-in-github",
        "colab_type": "text"
      },
      "source": [
        "<a href=\"https://colab.research.google.com/github/gregorimaia/Engenharia_Aeroespacial/blob/main/Python_Instructions.ipynb\" target=\"_parent\"><img src=\"https://colab.research.google.com/assets/colab-badge.svg\" alt=\"Open In Colab\"/></a>"
      ]
    },
    {
      "cell_type": "markdown",
      "source": [
        "# **Tipos de Variáveis**\n",
        "## Variável Inteira (int): Utilizada para números inteiros;\n",
        "## Variável Decimal (Flutuante, float);\n",
        "## Variável String (str);\n",
        "## Variável Dictionary (dict);\n",
        "## Variável Booleana (bool);\n",
        "## Variáveis de lista: list e tuple;\n",
        "\n",
        "Para itendificar o tipo de variável utiliza-se o comando type().\n"
      ],
      "metadata": {
        "id": "M6BeZEGWls1t"
      }
    },
    {
      "cell_type": "code",
      "execution_count": null,
      "metadata": {
        "id": "PFJeQr2UFZHW",
        "colab": {
          "base_uri": "https://localhost:8080/"
        },
        "outputId": "151e5f9a-eacf-4e63-f19f-133705daab88"
      },
      "outputs": [
        {
          "output_type": "stream",
          "name": "stdout",
          "text": [
            "2022\n",
            "<class 'int'>\n",
            "26.5\n",
            "<class 'float'>\n",
            "Gregori\n",
            "<class 'str'>\n",
            "{'Nome': 'Gregori', 'Idade': 57, 'Nota': 8.5} <class 'dict'>\n",
            "True <class 'bool'>\n",
            "['Ana', 'Mathias', 'Grégori'] <class 'list'>\n",
            "(8.9, 9.5, 8.5) <class 'tuple'>\n"
          ]
        }
      ],
      "source": [
        "# (int) Números inteiros\n",
        "ano = 2022\n",
        "print(ano)\n",
        "print(type(ano))\n",
        "\n",
        "# (float) Números decimais ou fracionários\n",
        "idade = 26.5\n",
        "print(idade)\n",
        "print(type(idade))\n",
        "\n",
        "# (str) Caracteres ou texto\n",
        "nome = 'Gregori'\n",
        "print(nome)\n",
        "print(type(nome))\n",
        "\n",
        "# (dict) Pares de informações relacionando-as\n",
        "dict1= {'Nome':'Gregori', 'Idade':57, 'Nota':8.5}\n",
        "print(dict1, type(dict1))\n",
        "\n",
        "# (bool) Assume valores de verdadeiro (1) ou falso (0)\n",
        "CodeQ = True\n",
        "print(CodeQ, type(CodeQ))\n",
        "\n",
        "# (list, tuple) Lista de outros tipos de variáveis\n",
        "# (list) os elementos podem ser alterados \n",
        "# (tuple) os elementos não podem ser alterados\n",
        "alunos = ['Ana', 'Mathias', 'Grégori']\n",
        "print(alunos, type(alunos))\n",
        "\n",
        "notas = (8.9, 9.5, 8.5)\n",
        "print(notas, type(notas))\n"
      ]
    },
    {
      "cell_type": "markdown",
      "source": [
        "# **Comando** _*append*_ **adiciona itens à uma lista já existente, geralmente utilizado dentro de laços.**\n"
      ],
      "metadata": {
        "id": "FFy4Idc1tHjs"
      }
    },
    {
      "cell_type": "code",
      "source": [
        "lista = [] # Criação de uma lista vazia\n",
        "for i in range(10): # Criação de um loop\n",
        "    y = 2*i\n",
        "    lista.append(y) # Adicionando o valor y á lista\n",
        "print(lista)"
      ],
      "metadata": {
        "colab": {
          "base_uri": "https://localhost:8080/"
        },
        "id": "-TG1nmXyud6E",
        "outputId": "86a63aa0-bf4c-4304-ff32-7e45febdb4c8"
      },
      "execution_count": null,
      "outputs": [
        {
          "output_type": "stream",
          "name": "stdout",
          "text": [
            "[0, 2, 4, 6, 8, 10, 12, 14, 16, 18]\n"
          ]
        }
      ]
    },
    {
      "cell_type": "markdown",
      "source": [
        "# **Vetores e Matrizes**\n"
      ],
      "metadata": {
        "id": "YAQpnicsvPcf"
      }
    },
    {
      "cell_type": "markdown",
      "source": [
        "* listas"
      ],
      "metadata": {
        "id": "7tUMGksb2IJI"
      }
    },
    {
      "cell_type": "code",
      "source": [
        "numeros = [1, 2 , 3, 4]\n",
        "print(numeros)\n",
        "# os elementos da lista são contados desde o zero\n",
        "# Posso determinar um valor a ser apresentado da lista\n",
        "print(numeros[0])  \n",
        "print(numeros[2])\n",
        "type(numeros)"
      ],
      "metadata": {
        "colab": {
          "base_uri": "https://localhost:8080/"
        },
        "id": "4cwv_oND2KBb",
        "outputId": "004c447a-c5c6-406d-f15a-3635a3953b81"
      },
      "execution_count": null,
      "outputs": [
        {
          "output_type": "stream",
          "name": "stdout",
          "text": [
            "[1, 2, 3, 4]\n",
            "1\n",
            "3\n"
          ]
        },
        {
          "output_type": "execute_result",
          "data": {
            "text/plain": [
              "list"
            ]
          },
          "metadata": {},
          "execution_count": 2
        }
      ]
    },
    {
      "cell_type": "code",
      "source": [
        "# posso modificar alguma variável da lista\n",
        "numeros[3] = 8\n",
        "print(numeros)"
      ],
      "metadata": {
        "colab": {
          "base_uri": "https://localhost:8080/"
        },
        "id": "EyPUamX12zVu",
        "outputId": "9eebe1c7-e4f3-44ee-94e6-9a6ecae0f65b"
      },
      "execution_count": null,
      "outputs": [
        {
          "output_type": "stream",
          "name": "stdout",
          "text": [
            "[1, 2, 3, 8]\n"
          ]
        }
      ]
    },
    {
      "cell_type": "markdown",
      "source": [
        "* _*array*_"
      ],
      "metadata": {
        "id": "fwe8Atiw0FC8"
      }
    },
    {
      "cell_type": "code",
      "source": [
        "import numpy as np # Para não ter que ficar escrevedo numpy toda hora, mas np\n",
        "# arrays são variáveis da biblioteca numpy e servirão como vetores\n",
        "# multiplicaçoes matriciais só podem ser aplicadas à arrays\n",
        "\n",
        "numeros = np.array([1,2,3,4])\n",
        "Matriz = np.array([[1,0,5],[0,1,8],[2,9,3]])\n",
        "\n",
        "print(numeros, type(numeros))\n",
        "print(Matriz, type(Matriz)) # Não há um type específico para matrizes, é identificado com array.\n",
        "print(Matriz[1]) # Ao escolher um item da matriz, será apresentado por linha."
      ],
      "metadata": {
        "colab": {
          "base_uri": "https://localhost:8080/"
        },
        "id": "8qJNbavhyn2P",
        "outputId": "33caec89-3756-4c79-c0b5-097d3a9bca87"
      },
      "execution_count": null,
      "outputs": [
        {
          "output_type": "stream",
          "name": "stdout",
          "text": [
            "[1 2 3 4] <class 'numpy.ndarray'>\n",
            "[[1 0 5]\n",
            " [0 1 8]\n",
            " [2 9 3]] <class 'numpy.ndarray'>\n",
            "[0 1 8]\n"
          ]
        }
      ]
    },
    {
      "cell_type": "markdown",
      "source": [
        "* linspace\n",
        "Vetor composto por números **igualmente espaçados** entre um determinado intervalo. Será bastante utilizado para criação de um intervalo de integração que será utilizado com a função **_*odeint*_**."
      ],
      "metadata": {
        "id": "PNNF2W-20gnj"
      }
    },
    {
      "cell_type": "code",
      "source": [
        "T1 = np.linspace(1,5,30) # Vetor começando em 1 até 5 apresentando 30 ...\n",
        "# termos igualmente espaçados\n",
        "print(T1, type(T1), len(T1))\n",
        "# Se não determinar o número de termos, automaticamente aparecerá 50 termos."
      ],
      "metadata": {
        "colab": {
          "base_uri": "https://localhost:8080/"
        },
        "id": "BWXX1vHuxAeT",
        "outputId": "5e7b2693-0247-470b-a735-0de5f2c5f339"
      },
      "execution_count": null,
      "outputs": [
        {
          "output_type": "stream",
          "name": "stdout",
          "text": [
            "[1.         1.13793103 1.27586207 1.4137931  1.55172414 1.68965517\n",
            " 1.82758621 1.96551724 2.10344828 2.24137931 2.37931034 2.51724138\n",
            " 2.65517241 2.79310345 2.93103448 3.06896552 3.20689655 3.34482759\n",
            " 3.48275862 3.62068966 3.75862069 3.89655172 4.03448276 4.17241379\n",
            " 4.31034483 4.44827586 4.5862069  4.72413793 4.86206897 5.        ] <class 'numpy.ndarray'> 30\n"
          ]
        }
      ]
    },
    {
      "cell_type": "markdown",
      "source": [
        "* arange"
      ],
      "metadata": {
        "id": "B7LreD_fyl9a"
      }
    },
    {
      "cell_type": "code",
      "source": [
        "import numpy as np\n",
        "numeros = np.arange(3) # Quando não especificamos 2 valores, começamos de 0.\n",
        "print(numeros, type(numeros))\n",
        "\n",
        "numeros2 = np.arange(3, 9) # se não esécificar o intervalo, vai apresentar unidade por unidade\n",
        "print(numeros2)\n",
        "\n",
        "numeros3 = np.arange(3, 9, 0.5) # (início, final-1(intervalo), intervalo)\n",
        "print(numeros3, len(numeros3))"
      ],
      "metadata": {
        "colab": {
          "base_uri": "https://localhost:8080/"
        },
        "id": "Gxe8uDmO_4KD",
        "outputId": "388b219c-9ddc-44bf-c15a-7e07629e7bc2"
      },
      "execution_count": null,
      "outputs": [
        {
          "output_type": "stream",
          "name": "stdout",
          "text": [
            "[0 1 2] <class 'numpy.ndarray'>\n",
            "[3 4 5 6 7 8]\n",
            "[3.  3.5 4.  4.5 5.  5.5 6.  6.5 7.  7.5 8.  8.5] 12\n"
          ]
        }
      ]
    },
    {
      "cell_type": "markdown",
      "source": [
        "Note:\n",
        "* Comprimento (length) de um vetor: retorna o número de elementos de um vetor, ou o número de linhas de uma matriz. Utiliza-se o comando len(A)."
      ],
      "metadata": {
        "id": "5WWUUNLzBQfY"
      }
    },
    {
      "cell_type": "markdown",
      "source": [
        "# **Funções**\n",
        "Dentro de uma linguagem de programação, Funções são grupos de códigos que realizam algumas tarefas que, geralmente, seriam executadas várias vezes dentro de um mesmo código. A forma de escrita de uma função é separada em 4 partes:\n",
        "\n",
        "**NOME, PARÂMETROS, CORPO E RESPOSTA (OURETORNO)**"
      ],
      "metadata": {
        "id": "2iHUvXeNCBRe"
      }
    },
    {
      "cell_type": "code",
      "source": [
        "# def nome(parametros):\n",
        "#     corpo\n",
        "#     return  (resposta)"
      ],
      "metadata": {
        "id": "Ol56PR3-SbFK"
      },
      "execution_count": null,
      "outputs": []
    },
    {
      "cell_type": "markdown",
      "source": [
        "**NOME**\n",
        "\n",
        "É o nome pelo qual a função será chamada em um código\n",
        "\n",
        "**PARÂMETROS**\n",
        "\n",
        "São as variáveis externas à função, que são necessárias para que a função seja executada (variáveis independentes). Nem sempre será necessário declarar parâmetros, poi podemos \"chamar\" funções para que sejam simplesmente executadas.\n",
        "\n",
        "**CORPO**\n",
        "\n",
        "É onde os argumentos da função serão utilizados para a execução da função.\n",
        "\n",
        "***RESPOSTA**\n",
        "\n",
        "É o retorno da função, ou seja, o que a função retornará de resposta. Assim como os parâmetros, nem sempre será necessário um comando de resposta, isso dependerá do objetvo da função.\n"
      ],
      "metadata": {
        "id": "k3kjQyLES3uU"
      }
    },
    {
      "cell_type": "code",
      "source": [
        "def calcular_pagamento(qtd_horas, valor_hora): \n",
        "  horas = float(qtd_horas)\n",
        "  taxa = float(valor_hora)\n",
        "  if horas <=40:\n",
        "    salario=horas*taxa\n",
        "  else:\n",
        "    h_excd = horas - 40\n",
        "    salario = 40*taxa+(h_excd*(1.5*taxa))\n",
        "  return salario"
      ],
      "metadata": {
        "id": "VLIAnCL5UdlP"
      },
      "execution_count": null,
      "outputs": []
    },
    {
      "cell_type": "markdown",
      "source": [
        "Uma jornada semanal de trabalho é de horas, se essa jornada de 40 horas é ultrapassada, a cada hora extra o ganho extra será de 50% a mais que uma hora trabalhado dentro das 40 horas. Assim em salario terá o valor de 40 vezes o valor do ganho por hora mais a hora extra acrescida de mais 50%.  \n",
        "\n",
        "As variáveis são a quantidade de horas trabalhada e o valor pago por hora. É utilizado um if e else para distinguir se há acréscimo de horas extra ou apenas horas trabalhadas abaixo de 40. Se houver horas escedentes, cada horá terá um fator de 1,5 de aumento no valor de cada hora."
      ],
      "metadata": {
        "id": "lwcb6CKWwBS8"
      }
    },
    {
      "cell_type": "code",
      "source": [
        "def calculo_imc(peso, altura):\n",
        "    print(peso/altura**2)\n",
        "calculo_imc(altura=1.76, peso=68)\n",
        "calculo_imc(68, 1.76)\n"
      ],
      "metadata": {
        "colab": {
          "base_uri": "https://localhost:8080/"
        },
        "id": "8jT__jI8z8FY",
        "outputId": "f0256919-73ef-4b9c-e080-fc6dfb727029"
      },
      "execution_count": null,
      "outputs": [
        {
          "output_type": "stream",
          "name": "stdout",
          "text": [
            "21.952479338842977\n",
            "21.952479338842977\n"
          ]
        }
      ]
    },
    {
      "cell_type": "markdown",
      "source": [
        "Para cálculo do IMC foi criada a função onde posteriormente é declarado o valor de cada parâmetro para o cálculo ou apenas adicionado entre () o valor de cada parâmetro na ordem declarada dentro da função. Como no corpo da função ja tem o print, não há necessidade de declarar o return."
      ],
      "metadata": {
        "id": "fiajm7jH0bJT"
      }
    },
    {
      "cell_type": "markdown",
      "source": [
        "# **Condicionais**\n",
        "## **Operadores Relacionais**\n",
        "São expressões lógicas que relacionam variáveis e podem se **VERDADEIRAS** ou **FALSAS**. Por isso, também são chamados de operadores **Booleanos**. Em python temos os seguintes operadores relacionais:\n",
        "\n",
        "* \\> Maior que\n",
        "* \\>= Maior ou igual a\n",
        "* \\< Menor que \n",
        "* \\<= Menor ou igual a \n",
        "* \\== Igual a\n",
        "* =! Diferente de \n",
        "\n",
        "Em python, quando escrevemos uma expressão Booleana com esses operadores, o programa vai nos retornar True(verdaeiro) ou False(falso)."
      ],
      "metadata": {
        "id": "hBnU1_TL1HjB"
      }
    },
    {
      "cell_type": "code",
      "source": [
        "10>5"
      ],
      "metadata": {
        "colab": {
          "base_uri": "https://localhost:8080/"
        },
        "id": "5p3IZDHfMLZD",
        "outputId": "78df4c51-1418-4733-c1bc-75fd99d7887d"
      },
      "execution_count": null,
      "outputs": [
        {
          "output_type": "execute_result",
          "data": {
            "text/plain": [
              "True"
            ]
          },
          "metadata": {},
          "execution_count": 5
        }
      ]
    },
    {
      "cell_type": "code",
      "source": [
        "10<5"
      ],
      "metadata": {
        "colab": {
          "base_uri": "https://localhost:8080/"
        },
        "id": "PQq5XAmbMTuZ",
        "outputId": "f4608de4-a3e4-4dbd-ddc1-7d8c784ec00e"
      },
      "execution_count": null,
      "outputs": [
        {
          "output_type": "execute_result",
          "data": {
            "text/plain": [
              "False"
            ]
          },
          "metadata": {},
          "execution_count": 6
        }
      ]
    },
    {
      "cell_type": "code",
      "source": [
        "4==2+2"
      ],
      "metadata": {
        "colab": {
          "base_uri": "https://localhost:8080/"
        },
        "id": "cHW3YCqZMdrD",
        "outputId": "f5e7a86a-370c-4be4-9ebd-c038a83e4aef"
      },
      "execution_count": null,
      "outputs": [
        {
          "output_type": "execute_result",
          "data": {
            "text/plain": [
              "True"
            ]
          },
          "metadata": {},
          "execution_count": 7
        }
      ]
    },
    {
      "cell_type": "markdown",
      "source": [
        "# **Estrutura Condicional**\n",
        "\n",
        "Baseado numa decisão de condição:\n",
        "\n",
        "Se estiver chovendo eu vou de carro, se não estiver chovendo eu não vou de carro.\n",
        "\n",
        "Neste exemplo ir de carro ou não está condicionado ao tempo.\n",
        "\n"
      ],
      "metadata": {
        "id": "HdSY-f5PMhXp"
      }
    },
    {
      "cell_type": "code",
      "source": [
        "nota = (float(input('Nota: ')))\n",
        "if nota>=7.0:\n",
        "  print('APROVADO!!')\n",
        "else:\n",
        "  print('REPROVADO!!')\n"
      ],
      "metadata": {
        "colab": {
          "base_uri": "https://localhost:8080/"
        },
        "id": "pjfEbA1p5Py6",
        "outputId": "9fe178cd-755a-47d8-aec8-aba2825cf9bf"
      },
      "execution_count": null,
      "outputs": [
        {
          "output_type": "stream",
          "name": "stdout",
          "text": [
            "Nota: 7.9\n",
            "APROVADO!!\n"
          ]
        }
      ]
    },
    {
      "cell_type": "markdown",
      "source": [
        "* **if** = se\n",
        "* **else** = senão\n",
        "* **elif** = senão, se - colocado após uma estrutura condicional **if**"
      ],
      "metadata": {
        "id": "wJq_OTay73W2"
      }
    },
    {
      "cell_type": "code",
      "source": [
        "temp = float(input('Temperatura: '))\n",
        "if temp >= 100:\n",
        "  print('Gasoso')\n",
        "elif temp >= 0:\n",
        "  print('Líquido')\n",
        "else:\n",
        "  print('Sólido')\n"
      ],
      "metadata": {
        "colab": {
          "base_uri": "https://localhost:8080/"
        },
        "id": "1oU9l1xx74Pu",
        "outputId": "e34c5369-3d73-4dc0-e4be-05e6eaa432ea"
      },
      "execution_count": null,
      "outputs": [
        {
          "output_type": "stream",
          "name": "stdout",
          "text": [
            "Temperatura: -5\n",
            "Sólido\n"
          ]
        }
      ]
    },
    {
      "cell_type": "markdown",
      "source": [
        "# **Laço \"while\"**\n",
        "* Inicia a estrutura condicional com **while**;\n",
        "* Na mesma linha escreve a condição;\n",
        "* Em nova linha, com **IDENTAÇÃO**, adiciona os trechos que se repetirão até que a condição se torne **falsa**. Podemos adicionar até outros condicionais nesta parte. Assim o programa sai do laço e segue o executando o restante do código fora do laço.\n",
        "\n",
        "## É importante que sempre haja um mecanismo de parada, senão o laço fica sendo executado infinitamente.\n"
      ],
      "metadata": {
        "id": "bCt29Ckg8gNi"
      }
    },
    {
      "cell_type": "code",
      "source": [
        "N = 0\n",
        "while N <= 10:\n",
        "  print(N)\n",
        "  N = N+1"
      ],
      "metadata": {
        "colab": {
          "base_uri": "https://localhost:8080/"
        },
        "id": "7YKIZ0yzqTtf",
        "outputId": "e5583e8f-9c9d-43b1-f434-7e42778db5f9"
      },
      "execution_count": null,
      "outputs": [
        {
          "output_type": "stream",
          "name": "stdout",
          "text": [
            "1\n",
            "2\n",
            "3\n",
            "4\n",
            "5\n",
            "6\n",
            "7\n",
            "8\n",
            "9\n",
            "10\n",
            "11\n"
          ]
        }
      ]
    },
    {
      "cell_type": "markdown",
      "source": [
        "A variável N é o contador. Em programação é comum utilizar **i** como contador, e costuma se iniciar em 0."
      ],
      "metadata": {
        "id": "EQffz-rirAVQ"
      }
    },
    {
      "cell_type": "code",
      "source": [
        "i = 0\n",
        "while i < 5:\n",
        "  print('Esta é a iteração ',i)\n",
        "  i = i+1"
      ],
      "metadata": {
        "colab": {
          "base_uri": "https://localhost:8080/"
        },
        "id": "92a6Pcq0rObo",
        "outputId": "5a8f391d-6a03-4bbb-84a6-676acdedded7"
      },
      "execution_count": null,
      "outputs": [
        {
          "output_type": "stream",
          "name": "stdout",
          "text": [
            "Esta é a iteração  0\n",
            "Esta é a iteração  1\n",
            "Esta é a iteração  2\n",
            "Esta é a iteração  3\n",
            "Esta é a iteração  4\n"
          ]
        }
      ]
    },
    {
      "cell_type": "markdown",
      "source": [
        "# **Laço \"for\"**\n",
        "O laço **\"for\"** repetes tantas vezes quanto houverem itens em uma lista (ou range). Por exemplo:\n",
        "\n",
        "\"Para cada iten desta lista, repita a execução desta ação.\"\n"
      ],
      "metadata": {
        "id": "XXSUZpvVrsBk"
      }
    },
    {
      "cell_type": "code",
      "source": [
        "L = [1, 2, 3, 4, 5, 6, 7, 8]\n",
        "for x in L:\n",
        "  print(x**2)\n"
      ],
      "metadata": {
        "colab": {
          "base_uri": "https://localhost:8080/"
        },
        "id": "m8geobxpBDhd",
        "outputId": "f7eca796-0a3d-4e32-fc75-ed37a8cbbacf"
      },
      "execution_count": null,
      "outputs": [
        {
          "output_type": "stream",
          "name": "stdout",
          "text": [
            "1\n",
            "4\n",
            "9\n",
            "16\n",
            "25\n",
            "36\n",
            "49\n",
            "64\n"
          ]
        }
      ]
    },
    {
      "cell_type": "code",
      "source": [
        "Y = [\"people\", 2, [0, 4], 5.4]\n",
        "for x in Y:\n",
        "  print(type(x))"
      ],
      "metadata": {
        "colab": {
          "base_uri": "https://localhost:8080/"
        },
        "id": "MPKPL7gYBuKj",
        "outputId": "8a8b71ab-7a0d-4a19-ac1d-cd8ed8b0e3af"
      },
      "execution_count": null,
      "outputs": [
        {
          "output_type": "stream",
          "name": "stdout",
          "text": [
            "<class 'str'>\n",
            "<class 'int'>\n",
            "<class 'list'>\n",
            "<class 'float'>\n"
          ]
        }
      ]
    },
    {
      "cell_type": "markdown",
      "source": [
        "# **Função \"range()\"** \n",
        "\n",
        "Muito utilizada em conjunto com **\"for\"**, permite criar sequências de números inteiros.\n",
        "\n",
        "Esta função pode ser chamada de 3 formas:\n",
        "\n",
        "* range(valor_final): cria um sequência de números inteiros começando em 0 e terminando no valor **anterior ao valor_final**."
      ],
      "metadata": {
        "id": "KisSPgNICGYD"
      }
    },
    {
      "cell_type": "code",
      "source": [
        "for i in range(5):\n",
        "  print(i)"
      ],
      "metadata": {
        "colab": {
          "base_uri": "https://localhost:8080/"
        },
        "id": "_rjUROrxoYBy",
        "outputId": "144c2ffe-3ebe-4c05-fbad-00a53c1371ad"
      },
      "execution_count": null,
      "outputs": [
        {
          "output_type": "stream",
          "name": "stdout",
          "text": [
            "0\n",
            "1\n",
            "2\n",
            "3\n",
            "4\n"
          ]
        }
      ]
    },
    {
      "cell_type": "markdown",
      "source": [
        "* range(valor_inicial, valor_final): cria uma lista em que inicia no valor_inicial e termina no valor **anterior ao valor_final**."
      ],
      "metadata": {
        "id": "eZrNusTVo19S"
      }
    },
    {
      "cell_type": "code",
      "source": [
        "for i in range(4, 16):\n",
        "  print(i)"
      ],
      "metadata": {
        "colab": {
          "base_uri": "https://localhost:8080/"
        },
        "id": "1-3AqolaoGPI",
        "outputId": "9ea3eb34-b425-48d1-fe96-c70103fafdc2"
      },
      "execution_count": null,
      "outputs": [
        {
          "output_type": "stream",
          "name": "stdout",
          "text": [
            "4\n",
            "5\n",
            "6\n",
            "7\n",
            "8\n",
            "9\n",
            "10\n",
            "11\n",
            "12\n",
            "13\n",
            "14\n",
            "15\n"
          ]
        }
      ]
    },
    {
      "cell_type": "markdown",
      "source": [
        "* range(valor_inicial, valor_final, passo): cria uma sequência de valor **não consecutivos** que começa no valor_inicial, segue com espaçamentos iguais até chegar ao valor anterior ao **valor_final considerando o epaçamento definido**."
      ],
      "metadata": {
        "id": "PMjmlrBcpcei"
      }
    },
    {
      "cell_type": "code",
      "source": [
        "for i in range(4, 40, 3):\n",
        "  print(i)"
      ],
      "metadata": {
        "colab": {
          "base_uri": "https://localhost:8080/"
        },
        "id": "d8qZmMezpxN2",
        "outputId": "f2cfdafe-b8a9-45de-b89c-ece6e217c1cb"
      },
      "execution_count": null,
      "outputs": [
        {
          "output_type": "stream",
          "name": "stdout",
          "text": [
            "4\n",
            "7\n",
            "10\n",
            "13\n",
            "16\n",
            "19\n",
            "22\n",
            "25\n",
            "28\n",
            "31\n",
            "34\n",
            "37\n"
          ]
        }
      ]
    },
    {
      "cell_type": "markdown",
      "source": [
        "# **Gráficos utilizando a biblioteca matplotlib.pyplot**\n",
        "\n",
        "* Funções 2D \n",
        "## Função de primeiro grau"
      ],
      "metadata": {
        "id": "1HxLhrU2qFMU"
      }
    },
    {
      "cell_type": "code",
      "source": [
        "# Importar bibliotecas\n",
        "import matplotlib.pyplot as plt\n",
        "import numpy as np\n",
        "\n",
        "# Declarar constantes das funções\n",
        "a = -0.5648\n",
        "b = 6.65\n",
        "c = -8\n",
        "d = np.sqrt(2)\n",
        "\n",
        "# Declarar vetor \"x\" da variável independente.\n",
        "x = np.arange(0, 15, 0.01)\n",
        "x2 = np. arange(-15, 15, 0.01)\n",
        "\n",
        "# Primeiro exemplo: função y = ax + b\n",
        "y = a*x + b\n",
        "\n",
        "y2 = -2*a*x+(1/2)*b\n",
        "\n",
        "# Criando a figura\n",
        "plt.rcParams['font.family'] = 'Serif' # Alterando fonte\n",
        "\n",
        "fig = plt.figure(figsize = (8,5)) # Personalizando as proporções da figura\n",
        "\n",
        "plt.plot(x, y, label = 'y', color = 'orange') # Customizando o visual das variáveis\n",
        "\n",
        "plt.plot(x, y2, label = 'y_2')  # Plotando a segunda função\n",
        "\n",
        "plt.xlabel('Variável independente (x)', fontsize=15)  # Adicionando título para o eixo x\n",
        "#fontsize=tamanho da fonte\n",
        "\n",
        "plt.xticks(fontsize=13) # Personalizando os valores mostrados no eixo x\n",
        "#fontsize=tamanho da fonte\n",
        "\n",
        "plt.ylabel('Variável dependente (y)', fontsize=15)  # Adicionando título para o eixo y\n",
        "\n",
        "plt.yticks(fontsize=13) # Personalizando os valores mostrados no eixo y\n",
        "\n",
        "plt.xlim(0, 14) # Definindo o tamanho do eixo x\n",
        "\n",
        "plt.ylim(0, 20) # Definindo o tamanho do eixo y\n",
        "\n",
        "plt.title('Exemplo de duas funções de primeiro grau', fontdict = {'fontweight':'bold', 'fontsize':15})  # Personalizando o título do gráfico\n",
        "#fontweight=negrito, fontsize=tamanho da fonte\n",
        "\n",
        "plt.legend(frameon=True, prop={'size':'10'})  # Personalizando a legenda do gráfico\n",
        "#frameon=legenda em um quadradinho, prop=tamanho da legenda\n",
        "\n",
        "plt.grid(linestyle='-', linewidth=0.5)  # Gradeando o gráfico\n",
        "#linestyle=tipo de linhas das grades do gráfico, linewidth=espessura das linhas\n",
        "\n",
        "fig.patch.set_facecolor('xkcd:light grey')  # Cor de fundo do gráfico\n",
        "\n",
        "\n",
        "plt.savefig('Exemplo_1.png', dpi = 500, facecolor = 'xkcd:light grey', bbox_inches='tight') #Salvando a imagem \n",
        "#Salva o fráfico no arquivo em que se encontra o código, já define o formato, neste caso .png, dpi=número que será multiplicada a proporção do gráfico, 8x500 e 5x500\n",
        "\n",
        "plt.show()  # Mostrar todas as figuras acima"
      ],
      "metadata": {
        "id": "aE-LGhnAlMOm",
        "colab": {
          "base_uri": "https://localhost:8080/",
          "height": 360
        },
        "outputId": "3838b542-1c7e-42b9-f3ba-70e3f5f824c5"
      },
      "execution_count": null,
      "outputs": [
        {
          "output_type": "display_data",
          "data": {
            "text/plain": [
              "<Figure size 576x360 with 1 Axes>"
            ],
            "image/png": "[encoded data removed]"
          },
          "metadata": {}
        }
      ]
    },
    {
      "cell_type": "markdown",
      "source": [
        "## Função de segundo *grau* \n"
      ],
      "metadata": {
        "id": "MuktZRQEz790"
      }
    },
    {
      "cell_type": "code",
      "source": [
        "# Importar bibliotecas\n",
        "import matplotlib.pyplot as plt\n",
        "import numpy as np\n",
        "\n",
        "# Declarar constantes das funções\n",
        "a = -0.5648\n",
        "b = 6.65\n",
        "c = -8\n",
        "d = np.sqrt(2)\n",
        "\n",
        "# Declarar vetor \"x\" da variável independente.\n",
        "x = np.arange(0, 15, 0.01)\n",
        "x2 = np. arange(-15, 15, 0.01)\n",
        "\n",
        "# Primeiro exemplo: função y = ax + b\n",
        "y = a*(x2)**2 + b*x2+c\n",
        "\n",
        "y2 = -3*a*(x2)**2+(1/5)*b*x2+3*c\n",
        "\n",
        "idx = np.argwhere(np.diff(np.sign(y-y2))).flatten() # Apenas para marcar os pontos onde as funções se interceptam\n",
        "\n",
        "# Criando a figura\n",
        "plt.rcParams['font.family'] = 'Serif' # Alterando fonte\n",
        "\n",
        "fig = plt.figure(figsize = (8,5)) # Personalizando as proporções da figura\n",
        "\n",
        "plt.plot(x2, y, label = 'y', color = 'red') # Customizando o visual das variáveis\n",
        "\n",
        "plt.plot(x2, y2, label = 'y_2', color = 'black')  # Plotando a segunda função\n",
        "\n",
        "plt.plot(x2[idx], y[idx], 'o', color = 'orange')  # Pontos de interseptação\n",
        "\n",
        "plt.xlabel('Variável independente (x)', fontsize=15)  # Adicionando título para o eixo x\n",
        "#fontsize=tamanho da fonte\n",
        "\n",
        "plt.xticks(fontsize=13) # Personalizando os valores mostrados no eixo x\n",
        "#fontsize=tamanho da fonte\n",
        "\n",
        "plt.ylabel('Variável dependente (y)', fontsize=15)  # Adicionando título para o eixo y\n",
        "\n",
        "plt.yticks(fontsize=13) # Personalizando os valores mostrados no eixo y\n",
        "\n",
        "plt.xlim(-15, 15) # Definindo o tamanho do eixo x\n",
        "\n",
        "plt.ylim(-200, 300) # Definindo o tamanho do eixo y\n",
        "\n",
        "plt.title('Exemplo de duas funções de segundo grau', fontdict = {'fontweight':'bold', 'fontsize':15})  # Personalizando o título do gráfico\n",
        "#fontweight=negrito, fontsize=tamanho da fonte\n",
        "\n",
        "plt.legend(frameon=True, prop={'size':'10'})  # Personalizando a legenda do gráfico\n",
        "#frameon=legenda em um quadradinho, prop=tamanho da legenda\n",
        "\n",
        "plt.grid(linestyle='-', linewidth=0.5)  # Gradeando o gráfico\n",
        "#linestyle=tipo de linhas das grades do gráfico, linewidth=espessura das linhas\n",
        "\n",
        "fig.patch.set_facecolor('xkcd:beige')  # Cor de fundo do gráfico\n",
        "\n",
        "\n",
        "plt.savefig('Exemplo_1.png', dpi = 500, facecolor = 'xkcd:light grey', bbox_inches='tight') #Salvando a imagem \n",
        "#Salva o fráfico no arquivo em que se encontra o código, já define o formato, neste caso .png, dpi=número que será multiplicada a proporção do gráfico, 8x500 e 5x500\n",
        "\n",
        "plt.show()  # Mostrar todas as figuras acima"
      ],
      "metadata": {
        "colab": {
          "base_uri": "https://localhost:8080/",
          "height": 360
        },
        "id": "49w8GtXPa0s0",
        "outputId": "d7367168-7821-4bca-96f6-f9c7b6425a76"
      },
      "execution_count": 3,
      "outputs": [
        {
          "output_type": "display_data",
          "data": {
            "text/plain": [
              "<Figure size 576x360 with 1 Axes>"
            ],
            "image/png": "[encoded data removed]"
          },
          "metadata": {}
        }
      ]
    },
    {
      "cell_type": "markdown",
      "source": [
        "1:06:00"
      ],
      "metadata": {
        "id": "vEtqpaNAecru"
      }
    }
  ]
}