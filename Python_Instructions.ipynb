{
  "nbformat": 4,
  "nbformat_minor": 0,
  "metadata": {
    "colab": {
      "name": "Python_Instructions",
      "provenance": [],
      "authorship_tag": "ABX9TyNxaVyJXvZUQJ5geCW9TVKX",
      "include_colab_link": true
    },
    "kernelspec": {
      "name": "python3",
      "display_name": "Python 3"
    },
    "language_info": {
      "name": "python"
    }
  },
  "cells": [
    {
      "cell_type": "markdown",
      "metadata": {
        "id": "view-in-github",
        "colab_type": "text"
      },
      "source": [
        "<a href=\"https://colab.research.google.com/github/gregorimaia/Engenharia_Aeroespacial/blob/main/Python_Instructions.ipynb\" target=\"_parent\"><img src=\"https://colab.research.google.com/assets/colab-badge.svg\" alt=\"Open In Colab\"/></a>"
      ]
    },
    {
      "cell_type": "markdown",
      "source": [
        "# **Tipos de Variáveis**\n",
        "## Variável Inteira (int): Utilizada para números inteiros;\n",
        "## Variável Decimal (Flutuante, float);\n",
        "## Variável String (str);\n",
        "## Variável Dictionary (dict);\n",
        "## Variável Booleana (bool);\n",
        "## Variáveis de lista: list e tuple;\n",
        "\n",
        "Para itendificar o tipo de variável utiliza-se o comando type().\n"
      ],
      "metadata": {
        "id": "M6BeZEGWls1t"
      }
    },
    {
      "cell_type": "code",
      "execution_count": 14,
      "metadata": {
        "id": "PFJeQr2UFZHW",
        "colab": {
          "base_uri": "https://localhost:8080/"
        },
        "outputId": "151e5f9a-eacf-4e63-f19f-133705daab88"
      },
      "outputs": [
        {
          "output_type": "stream",
          "name": "stdout",
          "text": [
            "2022\n",
            "<class 'int'>\n",
            "26.5\n",
            "<class 'float'>\n",
            "Gregori\n",
            "<class 'str'>\n",
            "{'Nome': 'Gregori', 'Idade': 57, 'Nota': 8.5} <class 'dict'>\n",
            "True <class 'bool'>\n",
            "['Ana', 'Mathias', 'Grégori'] <class 'list'>\n",
            "(8.9, 9.5, 8.5) <class 'tuple'>\n"
          ]
        }
      ],
      "source": [
        "# (int) Números inteiros\n",
        "ano = 2022\n",
        "print(ano)\n",
        "print(type(ano))\n",
        "\n",
        "# (float) Números decimais ou fracionários\n",
        "idade = 26.5\n",
        "print(idade)\n",
        "print(type(idade))\n",
        "\n",
        "# (str) Caracteres ou texto\n",
        "nome = 'Gregori'\n",
        "print(nome)\n",
        "print(type(nome))\n",
        "\n",
        "# (dict) Pares de informações relacionando-as\n",
        "dict1= {'Nome':'Gregori', 'Idade':57, 'Nota':8.5}\n",
        "print(dict1, type(dict1))\n",
        "\n",
        "# (bool) Assume valores de verdadeiro (1) ou falso (0)\n",
        "CodeQ = True\n",
        "print(CodeQ, type(CodeQ))\n",
        "\n",
        "# (list, tuple) Lista de outros tipos de variáveis\n",
        "# (list) os elementos podem ser alterados \n",
        "# (tuple) os elementos não podem ser alterados\n",
        "alunos = ['Ana', 'Mathias', 'Grégori']\n",
        "print(alunos, type(alunos))\n",
        "\n",
        "notas = (8.9, 9.5, 8.5)\n",
        "print(notas, type(notas))\n"
      ]
    },
    {
      "cell_type": "markdown",
      "source": [
        "# **Comando** append"
      ],
      "metadata": {
        "id": "FFy4Idc1tHjs"
      }
    }
  ]
}