{
  "nbformat": 4,
  "nbformat_minor": 0,
  "metadata": {
    "colab": {
      "name": "Python_Instructions",
      "provenance": [],
      "authorship_tag": "ABX9TyNo6xtxUAOaAwT67tHYuG2G",
      "include_colab_link": true
    },
    "kernelspec": {
      "name": "python3",
      "display_name": "Python 3"
    },
    "language_info": {
      "name": "python"
    }
  },
  "cells": [
    {
      "cell_type": "markdown",
      "metadata": {
        "id": "view-in-github",
        "colab_type": "text"
      },
      "source": [
        "<a href=\"https://colab.research.google.com/github/gregorimaia/Engenharia_Aeroespacial/blob/main/Python_Instructions.ipynb\" target=\"_parent\"><img src=\"https://colab.research.google.com/assets/colab-badge.svg\" alt=\"Open In Colab\"/></a>"
      ]
    },
    {
      "cell_type": "markdown",
      "source": [
        "# **Tipos de Variáveis**\n",
        "## Variável Inteira (int): Utilizada para números inteiros;\n",
        "## Variável Decimal (Flutuante, float);\n",
        "## Variável String (str);\n",
        "## Variável Dictionary (dict);\n",
        "## Variável Booleana (bool)\n",
        "\n",
        "Para itendificar o tipo de variável utiliza-se o comando type().\n"
      ],
      "metadata": {
        "id": "M6BeZEGWls1t"
      }
    },
    {
      "cell_type": "code",
      "execution_count": 10,
      "metadata": {
        "id": "PFJeQr2UFZHW",
        "colab": {
          "base_uri": "https://localhost:8080/"
        },
        "outputId": "12fe09d1-4d6c-4b4f-849e-33362456aa8c"
      },
      "outputs": [
        {
          "output_type": "stream",
          "name": "stdout",
          "text": [
            "2022\n",
            "<class 'int'>\n",
            "26.5\n",
            "<class 'float'>\n",
            "Gregori\n",
            "<class 'str'>\n",
            "{'Nome': 'Gregori', 'Idade': 57, 'Nota': 8.5} <class 'dict'>\n"
          ]
        }
      ],
      "source": [
        "ano = 2022\n",
        "print(ano)\n",
        "print(type(ano))\n",
        "\n",
        "idade = 26.5\n",
        "print(idade)\n",
        "print(type(idade))\n",
        "\n",
        "\n",
        "nome = 'Gregori'\n",
        "print(nome)\n",
        "print(type(nome))\n",
        "\n",
        "dict1= {'Nome':'Gregori', 'Idade':57, 'Nota':8.5}\n",
        "print(dict1, type(dict1))\n",
        "\n"
      ]
    }
  ]
}