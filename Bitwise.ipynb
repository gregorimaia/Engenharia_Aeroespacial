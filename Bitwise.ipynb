{
  "nbformat": 4,
  "nbformat_minor": 0,
  "metadata": {
    "colab": {
      "name": "Bitwise.ipynb",
      "provenance": [],
      "authorship_tag": "ABX9TyOwrm6UY7A14axps43Tx5Xr",
      "include_colab_link": true
    },
    "kernelspec": {
      "name": "python3",
      "display_name": "Python 3"
    },
    "language_info": {
      "name": "python"
    }
  },
  "cells": [
    {
      "cell_type": "markdown",
      "metadata": {
        "id": "view-in-github",
        "colab_type": "text"
      },
      "source": [
        "<a href=\"https://colab.research.google.com/github/gregorimaia/Engenharia_Aeroespacial/blob/main/Bitwise.ipynb\" target=\"_parent\"><img src=\"https://colab.research.google.com/assets/colab-badge.svg\" alt=\"Open In Colab\"/></a>"
      ]
    },
    {
      "cell_type": "markdown",
      "metadata": {
        "id": "NLRoShbg-0DG"
      },
      "source": [
        "& (e)"
      ]
    },
    {
      "cell_type": "markdown",
      "metadata": {
        "id": "t1QbyTsI-__-"
      },
      "source": [
        "| (ou)"
      ]
    },
    {
      "cell_type": "markdown",
      "metadata": {
        "id": "jiSuTu6__CeW"
      },
      "source": [
        "^'(ou exclusivo)"
      ]
    },
    {
      "cell_type": "markdown",
      "metadata": {
        "id": "KRDMC51Y_H0O"
      },
      "source": [
        "~(complemento bit a bit)"
      ]
    },
    {
      "cell_type": "markdown",
      "metadata": {
        "id": "xiGBVUmk_NH2"
      },
      "source": [
        "<<(desloca bits à esquerda)"
      ]
    },
    {
      "cell_type": "markdown",
      "metadata": {
        "id": "5mAiIhRt_Sle"
      },
      "source": [
        "'>>(desloca bits à direita)"
      ]
    },
    {
      "cell_type": "code",
      "metadata": {
        "id": "3c-Bn1n_oHBt"
      },
      "source": [
        ""
      ],
      "execution_count": null,
      "outputs": []
    }
  ]
}