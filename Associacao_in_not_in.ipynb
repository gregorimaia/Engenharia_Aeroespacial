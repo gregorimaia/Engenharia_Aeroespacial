{
  "nbformat": 4,
  "nbformat_minor": 0,
  "metadata": {
    "colab": {
      "name": "Associacao_in_not_in.ipynb",
      "provenance": [],
      "authorship_tag": "ABX9TyO5R3ew7ToVi5GJsaJdkUkO",
      "include_colab_link": true
    },
    "kernelspec": {
      "name": "python3",
      "display_name": "Python 3"
    },
    "language_info": {
      "name": "python"
    }
  },
  "cells": [
    {
      "cell_type": "markdown",
      "metadata": {
        "id": "view-in-github",
        "colab_type": "text"
      },
      "source": [
        "<a href=\"https://colab.research.google.com/github/gregorimaia/Engenharia_Aeroespacial/blob/main/Associacao_in_not_in.ipynb\" target=\"_parent\"><img src=\"https://colab.research.google.com/assets/colab-badge.svg\" alt=\"Open In Colab\"/></a>"
      ]
    },
    {
      "cell_type": "markdown",
      "metadata": {
        "id": "Y7tba9vzzUMj"
      },
      "source": [
        "Resulta em True se o valor está contido na string."
      ]
    },
    {
      "cell_type": "code",
      "metadata": {
        "id": "HIOES5fZBikm",
        "colab": {
          "base_uri": "https://localhost:8080/"
        },
        "outputId": "3265e776-23d6-4d3d-dbb4-fd2eecbd876e"
      },
      "source": [
        "'Python' in 'Welacome to Python'"
      ],
      "execution_count": 1,
      "outputs": [
        {
          "output_type": "execute_result",
          "data": {
            "text/plain": [
              "True"
            ]
          },
          "metadata": {},
          "execution_count": 1
        }
      ]
    },
    {
      "cell_type": "markdown",
      "metadata": {
        "id": "emlm9WZOzpbz"
      },
      "source": [
        "Resulta em True se o valor não está contido."
      ]
    },
    {
      "cell_type": "code",
      "metadata": {
        "colab": {
          "base_uri": "https://localhost:8080/"
        },
        "id": "FazEGuTaz8sV",
        "outputId": "58fb594f-cf33-4159-9429-3f204e9f6d70"
      },
      "source": [
        "'C++' not in 'Welcome to Python'"
      ],
      "execution_count": 3,
      "outputs": [
        {
          "output_type": "execute_result",
          "data": {
            "text/plain": [
              "True"
            ]
          },
          "metadata": {},
          "execution_count": 3
        }
      ]
    }
  ]
}