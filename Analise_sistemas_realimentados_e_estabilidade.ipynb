{
  "nbformat": 4,
  "nbformat_minor": 0,
  "metadata": {
    "colab": {
      "name": "Analise_sistemas_realimentados_e_estabilidade.ipynb",
      "provenance": [],
      "include_colab_link": true
    },
    "kernelspec": {
      "name": "python3",
      "display_name": "Python 3"
    }
  },
  "cells": [
    {
      "cell_type": "markdown",
      "metadata": {
        "id": "view-in-github",
        "colab_type": "text"
      },
      "source": [
        "<a href=\"https://colab.research.google.com/github/gregorimaia/Engenharia_Aeroespacial/blob/main/Analise_sistemas_realimentados_e_estabilidade.ipynb\" target=\"_parent\"><img src=\"https://colab.research.google.com/assets/colab-badge.svg\" alt=\"Open In Colab\"/></a>"
      ]
    },
    {
      "cell_type": "code",
      "metadata": {
        "id": "ogSCOXA6xXGD"
      },
      "source": [
        "!pip install control\n",
        "import numpy as np\n",
        "from control.matlab import *\n",
        "import matplotlib.pyplot as plt\n",
        "import control"
      ],
      "execution_count": null,
      "outputs": []
    },
    {
      "cell_type": "markdown",
      "metadata": {
        "id": "2lfYlZAfxfml"
      },
      "source": [
        "# Análise de sistemas realimentados\n",
        "\n",
        "Sistemas de Controle I - Engenharia Aeroespacial - UFSM\n",
        "\n",
        "Prof. Dr. Lucas Vizzotto Bellinaso\n",
        "\n",
        "\n",
        "\n",
        "Insira abaixo a FTMA que deseja testar:\n"
      ]
    },
    {
      "cell_type": "code",
      "metadata": {
        "id": "SiUFPGIaP77Z"
      },
      "source": [
        "#Insira a Função de Transferência de Malha Aberta  (C*Gp)\n",
        "FTMA = tf(20.3,[1, 27.6, 98.28])    #caso 1\n",
        "#FTMA = tf(20,[1, 4, 3, 1])  #caso 2\n",
        "print(f'Função de Transferência de Malha Aberta: \\n{FTMA}')\n",
        "\n",
        "\n",
        "#Cálculo da Função de Transferência de Malha Fechada:\n",
        "FTMF = feedback(FTMA)\n",
        "print(f'\\nFunção de Transferência de Malha Fechada: \\n{FTMF}')\n",
        "print(f'Polos em Malha fechada: \\n {FTMF.pole()}')\n",
        "if (any(np.real(FTMF.pole())>0)): print('O sistema é INSTÁVEL em malha fechada\\n')\n",
        "else: print('\\nO sistema é ESTÁVEL em malha fechada\\n')"
      ],
      "execution_count": null,
      "outputs": []
    },
    {
      "cell_type": "markdown",
      "metadata": {
        "id": "et_nAQFkP1xO"
      },
      "source": [
        "## 1 Erros em regime permanente para resposta ao degrau e à rampa\n"
      ]
    },
    {
      "cell_type": "code",
      "metadata": {
        "id": "P6mMODMKxni5"
      },
      "source": [
        "#Inserir valores de r0 (degrau) e r1 (rampa):\n",
        "r0 = 1\n",
        "r1 = 1\n",
        "\n",
        "# Cálculos da FTMF:\n",
        "tau_FTMF = 1/np.min(-np.real(FTMF.pole()))\n",
        "t_vec = np.linspace(0,5*tau_FTMF, 201)\n",
        "stepr0 = np.full_like(t_vec, r0)\n",
        "rampar1 = t_vec*np.full_like(t_vec, r1)\n",
        "y_step,_,_ = lsim(FTMF, U=stepr0, T=t_vec)\n",
        "y_ramp,_,_ = lsim(FTMF, U=rampar1, T=t_vec)\n",
        "\n",
        "#Cálculo do erro:\n",
        "kss = dcgain(FTMA);\n",
        "kv = dcgain(minreal(FTMA*tf('s'), verbose=False));\n",
        "np.seterr(divide='ignore')\n",
        "ess = r0/(1+kss)\n",
        "ev = r1/kv\n",
        "print(f'Kss = {kss:.4f}\\t\\tKv = {kv:.4f}')\n",
        "print(f'\\nErro para resposta ao degrau r(t) = {r0:.2f} \\tess = {ess:.4f}')\n",
        "print(f'\\nErro para resposta à rampa r(t) = {r1:.2f}t \\tev = {ev:.4f}\\n')\n",
        "\n",
        "#Print das respostas:\n",
        "plt.figure(figsize = (10,6))\n",
        "plt.subplot('211')\n",
        "plt.plot(t_vec, stepr0, t_vec, y_step)\n",
        "plt.title(f'Resposta ao degrau em malha fechada. Regime permanente: ess = {ess:.4f}')\n",
        "plt.legend(('Referência r', 'Saída y'))\n",
        "plt.grid(); plt.ylabel('r e y');\n",
        "plt.subplot('212')\n",
        "plt.plot(t_vec, rampar1, t_vec, y_ramp)\n",
        "plt.title(f'Resposta à rampa em malha fechada. Regime permanente: ev = {ev:.4f}')\n",
        "plt.legend(('Referência r', 'Saída y'));\n",
        "plt.grid(); plt.xlabel('tempo (s)'); plt.ylabel('r e y');\n"
      ],
      "execution_count": null,
      "outputs": []
    },
    {
      "cell_type": "markdown",
      "metadata": {
        "id": "_c9cuD3nKrYW"
      },
      "source": [
        "# 2 Estabilidade"
      ]
    },
    {
      "cell_type": "markdown",
      "metadata": {
        "id": "TzppFuz6RLKB"
      },
      "source": [
        "## 2.1 Análise da Equação característica e polos em malha **fechada**"
      ]
    },
    {
      "cell_type": "code",
      "metadata": {
        "id": "iRbyh8BzBHIZ"
      },
      "source": [
        "polos_MF = FTMF.pole()\n",
        "print(f'Polos em MF: {polos_MF}\\n')\n",
        "num,den = tfdata(FTMF);\n",
        "EC = den[0][0]\n",
        "\n",
        "print(f'Polinômio  característico: {EC}')\n",
        "if any(np.real(polos_MF)>0): print('O sistema é INSTÁVEL')\n",
        "else: print('O sistema é ESTÁVEL')\n",
        "\n",
        "plt.figure(figsize=(10,6))\n",
        "yout,t = step(FTMF)\n",
        "plt.plot(t,yout);\n",
        "plt.grid();  plt.title('Resposta ao degrau em malha fechada');"
      ],
      "execution_count": null,
      "outputs": []
    },
    {
      "cell_type": "markdown",
      "metadata": {
        "id": "vyNQsYozssMj"
      },
      "source": [
        "### 2.1.1 Análise dos polos em MF em função de K"
      ]
    },
    {
      "cell_type": "code",
      "metadata": {
        "id": "F1lZy_U1sv8u"
      },
      "source": [
        "K = np.arange(1,20.1,1)\n",
        "G = tf(1,[1, 4, 3, 1])\n",
        "\n",
        "print(f'Valores de K = {K}')\n",
        "\n",
        "print(f'\\nG(s) = {G}')\n",
        "print('FTMA = K*G(s)')\n",
        "\n",
        "for k in K:\n",
        "  FTMF0 = feedback(k*G)\n",
        "  p1,p2,p3 = FTMF0.pole()\n",
        "  if any(np.real([p1,p2,p3])>0): sest = 'INSTÁVEL'\n",
        "  else: sest = 'Estável'\n",
        "  print(f'K = {k:.0f}\\t polos_MF = [{p1:.2f}, {p2:.2f}, {p3:.2f}]\\t'+sest)\n",
        "  plt.figure(figsize=(6,1))\n",
        "  yout,t = step(FTMF0)\n",
        "  plt.plot(t,yout);  plt.grid();\n",
        "  plt.xlabel('time(s)'); plt.ylabel('y');\n",
        "  plt.title(f'Step response: K = {k} - '+sest)"
      ],
      "execution_count": null,
      "outputs": []
    },
    {
      "cell_type": "markdown",
      "metadata": {
        "id": "hAjxj7BeT7EV"
      },
      "source": [
        "# 2.2 Critério de Nyquist"
      ]
    },
    {
      "cell_type": "code",
      "metadata": {
        "id": "s8EfdHnRT6Zo"
      },
      "source": [
        "K = np.array([1, 9, 10, 11, 12, 20])\n",
        "G = tf(1,[1, 4, 3, 1])\n",
        "\n",
        "print(f'Valores de K = {K}')\n",
        "\n",
        "print(f'\\nG(s) = {G}')\n",
        "print('FTMA = K*G(s)')\n",
        "\n",
        "for k in K:\n",
        "  plt.figure(figsize=(10,5)); \n",
        "  plt.subplot('121');  plt.grid();\n",
        "  plt.title(f'K = {k}')\n",
        "  nyquist(k*G)\n",
        "  plt.subplot('122')\n",
        "  plt.title('Zoom em torno de (-1, 0)')\n",
        "  nyquist(k*G)\n",
        "  plt.ylim((-0.5, 0.5))\n",
        "  plt.xlim((-1.5, -0.5))\n"
      ],
      "execution_count": null,
      "outputs": []
    },
    {
      "cell_type": "markdown",
      "metadata": {
        "id": "Tqf61Ea9aafQ"
      },
      "source": [
        "## 2.3 Diagrama de Bode"
      ]
    },
    {
      "cell_type": "code",
      "metadata": {
        "id": "Sf1AUmDXdcDp"
      },
      "source": [
        "import matplotlib\n",
        "matplotlib.use('nbagg')\n",
        "\n",
        "G = tf(1,[1, 4, 3, 1])\n",
        "k = 2\n",
        "FTMA = k*G\n",
        "print(f'\\nG(s) = {G}')\n",
        "print(f'K = {k}')\n",
        "print(f'FTMA = K*G(s) = {k}*G(s)')\n",
        "\n",
        "plt.figure(figsize=(8,8))\n",
        "bode(FTMA);\n",
        "GM,PM,wg,wc = margin(FTMA)\n",
        "GMdB = mag2db(GM)\n",
        "print(f'\\n\\nMargem de ganho em dB:  GM = {GMdB:.2f} dB')\n",
        "print(f'Margem de fase em graus:  PM = {PM:.2f}°')\n",
        "print('O sistema aparenta ser', 'ESTÁVEL.' if GMdB>0 and PM>0 else 'INSTÁVEL.')\n",
        "print(f'Frequência de cruzamento por 0 dB:  wc = {wc:.2f} rad/s')"
      ],
      "execution_count": null,
      "outputs": []
    },
    {
      "cell_type": "markdown",
      "metadata": {
        "id": "vREMr7TaX2cQ"
      },
      "source": [
        "### 2.3.1 Margem de fase $\\times$ coeficiente de amortecimento $\\zeta$\n",
        "Válido para sistems de 2ª ordem."
      ]
    },
    {
      "cell_type": "code",
      "metadata": {
        "id": "42AEwvY4X80W"
      },
      "source": [
        "PMdeg = np.arange(5,78,1)\n",
        "PM = np.deg2rad(PMdeg)\n",
        "Q = np.sqrt(np.cos(PM))/np.sin(PM)   \n",
        "csi = 1/(2*Q)      # Q = 1/(2*csi)\n",
        "plt.figure(figsize=(8,6))\n",
        "plt.plot(PMdeg,csi)\n",
        "plt.grid()\n",
        "plt.title('Margem de fase em função do coeficiente de amortecimento')\n",
        "plt.xlabel('Phase Margin (°)'); plt.ylabel('csi');\n",
        "plt.ylim((0,1));  plt.xlim((5,80));"
      ],
      "execution_count": null,
      "outputs": []
    },
    {
      "cell_type": "markdown",
      "metadata": {
        "id": "WAMMAInRgsNU"
      },
      "source": [
        "## 2.4 Lugar das raizes no SISOApp"
      ]
    },
    {
      "cell_type": "code",
      "metadata": {
        "id": "tW8MuPyYgqnU"
      },
      "source": [
        "# Copy and run in the first cell:\n",
        "!pip install bokeh             # Bokeh package must be installed in Google Colab server\n",
        "!pip install control           # Control package must be installed in Google Colab server\n",
        "!git clone https://github.com/lucasbellinaso/PythonSisoDesignApp.git\n",
        "import os\n",
        "os.chdir(\"PythonSisoDesignApp\")\n",
        "!python classes.py             # running the github code\n",
        "from classes import SISOApp    # importing the SISOApp\n",
        "from control.matlab import *   # importing control package as a Matlab environment\n",
        "#help(SISOApp)"
      ],
      "execution_count": null,
      "outputs": []
    },
    {
      "cell_type": "code",
      "metadata": {
        "id": "dxolOUM6g56d"
      },
      "source": [
        "FTMA = tf(1,[1, 4, 3, 1])    #caso 1\n",
        "SISOApp(FTMA)"
      ],
      "execution_count": null,
      "outputs": []
    }
  ]
}