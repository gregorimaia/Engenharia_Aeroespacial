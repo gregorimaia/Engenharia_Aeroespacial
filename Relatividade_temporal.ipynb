{
  "nbformat": 4,
  "nbformat_minor": 0,
  "metadata": {
    "colab": {
      "provenance": [],
      "authorship_tag": "ABX9TyOB7Vb2ZJmVVTQNXJd5N44G",
      "include_colab_link": true
    },
    "kernelspec": {
      "name": "python3",
      "display_name": "Python 3"
    },
    "language_info": {
      "name": "python"
    }
  },
  "cells": [
    {
      "cell_type": "markdown",
      "metadata": {
        "id": "view-in-github",
        "colab_type": "text"
      },
      "source": [
        "<a href=\"https://colab.research.google.com/github/gregorimaia/Engenharia_Aeroespacial/blob/main/Relatividade_temporal.ipynb\" target=\"_parent\"><img src=\"https://colab.research.google.com/assets/colab-badge.svg\" alt=\"Open In Colab\"/></a>"
      ]
    },
    {
      "cell_type": "code",
      "execution_count": 1,
      "metadata": {
        "id": "F7JcmUYTqgKz"
      },
      "outputs": [],
      "source": [
        "import math\n",
        "def relatividadetemporal():\n",
        "\n",
        "  idade = int(input('Qual é a idade atual sua e de seu irmão gêmeo? '))\n",
        "  t = int(input('Por quanto tempo em anos você estará viajando? '))\n",
        "  v = float(input('A que velocidade em relação a velocidade da luz você estará viajando durante este tempo? ' ))\n",
        "  minha_idade =  t + idade\n",
        "  gamma = 1 / math.sqrt(1 - v**2)\n",
        "  t_dilatado = gamma * t\n",
        "  idade_irmao = t_dilatado + idade\n",
        "  viagem_tempo = (t_dilatado + idade) - minha_idade\n",
        "\n",
        "  print('''Viajando por %g anos a uma velocidade de %g%% da velocidade da luz, quando eu retornar terei %g anos\n",
        "   de idade e meu irmão gêmeo terá %g anos de idade, ou seja, terei viajado %g anos para o futuro.''' %(t,v,round(minha_idade,2),round(idade_irmao,2),round(viagem_tempo,2)))"
      ]
    },
    {
      "cell_type": "code",
      "source": [
        "relatividadetemporal()"
      ],
      "metadata": {
        "colab": {
          "base_uri": "https://localhost:8080/"
        },
        "id": "jcQdM-U7qqnG",
        "outputId": "3cae7740-cc68-46ae-ea3a-e27cf0c7ef1d"
      },
      "execution_count": 2,
      "outputs": [
        {
          "output_type": "stream",
          "name": "stdout",
          "text": [
            "Qual é a idade atual sua e de seu irmão gêmeo? 32\n",
            "Por quanto tempo em anos você estará viajando? 10\n",
            "A que velocidade em relação a velocidade da luz você estará viajando durante este tempo? 0.97\n",
            "Viajando por 10 anos a uma velocidade de 0.97% da velocidade da luz, quando eu retornar terei 42 anos\n",
            "   de idade e meu irmão gêmeo terá 73.13 anos de idade, ou seja, terei viajado 31.13 anos para o futuro.\n"
          ]
        }
      ]
    }
  ]
}