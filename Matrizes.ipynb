{
  "nbformat": 4,
  "nbformat_minor": 0,
  "metadata": {
    "colab": {
      "name": "Matrizes.ipynb",
      "provenance": [],
      "authorship_tag": "ABX9TyO1Gl3BrZ3kUyM8MU4+xFI1",
      "include_colab_link": true
    },
    "kernelspec": {
      "name": "python3",
      "display_name": "Python 3"
    },
    "language_info": {
      "name": "python"
    }
  },
  "cells": [
    {
      "cell_type": "markdown",
      "metadata": {
        "id": "view-in-github",
        "colab_type": "text"
      },
      "source": [
        "<a href=\"https://colab.research.google.com/github/gregorimaia/Engenharia_Aeroespacial/blob/main/Matrizes.ipynb\" target=\"_parent\"><img src=\"https://colab.research.google.com/assets/colab-badge.svg\" alt=\"Open In Colab\"/></a>"
      ]
    },
    {
      "cell_type": "code",
      "metadata": {
        "id": "FKnuGA360Udw"
      },
      "source": [
        "import numpy as np"
      ],
      "execution_count": null,
      "outputs": []
    },
    {
      "cell_type": "markdown",
      "metadata": {
        "id": "8lEttgpC0DLF"
      },
      "source": [
        "## Matrizes 3x3"
      ]
    },
    {
      "cell_type": "code",
      "metadata": {
        "id": "jdaPpAWWnWM-"
      },
      "source": [
        "a11 = int(input('a11= '))\n",
        "a12 = int(input('a12= '))\n",
        "a13 = int(input('a13= '))\n",
        "a21 = int(input('a21= '))\n",
        "a22 = int(input('a22= '))\n",
        "a23 = int(input('a23= '))\n",
        "a31 = int(input('a31= '))\n",
        "a32 = int(input('a32= '))\n",
        "a33 = int(input('a33= '))\n",
        "MA = np.array([[a11, a12, a13], [a21, a22, a23], [a31, a32, a33]])\n",
        "print(MA)"
      ],
      "execution_count": null,
      "outputs": []
    },
    {
      "cell_type": "code",
      "metadata": {
        "id": "bOVkaJSEq9al"
      },
      "source": [
        "b11 = int(input('b11= '))\n",
        "b12 = int(input('b12= '))\n",
        "b13 = int(input('b13= '))\n",
        "b21 = int(input('b21= '))\n",
        "b22 = int(input('b22= '))\n",
        "b23 = int(input('b23= '))\n",
        "b31 = int(input('b31= '))\n",
        "b32 = int(input('b32= '))\n",
        "b33 = int(input('b33= '))\n",
        "MB = np.array([[b11, b12, b13], [b21, b22, b23], [b31, b32, b33]])\n",
        "print(MB)"
      ],
      "execution_count": null,
      "outputs": []
    },
    {
      "cell_type": "markdown",
      "metadata": {
        "id": "DQfTvrdb0Lvw"
      },
      "source": [
        "##Matrizes 2x2"
      ]
    },
    {
      "cell_type": "code",
      "metadata": {
        "id": "BJQamd_R0Qi7"
      },
      "source": [
        "c11 = int(input('c11= '))\n",
        "c12 = int(input('c12= '))\n",
        "c21 = int(input('c21= '))\n",
        "c22 = int(input('c22= '))\n",
        "MD = np.array([[c11, c12], [c21, c22])\n",
        "print(MC)"
      ],
      "execution_count": null,
      "outputs": []
    },
    {
      "cell_type": "code",
      "metadata": {
        "id": "eRH65KN50umb"
      },
      "source": [
        "d11 = int(input('d11= '))\n",
        "d12 = int(input('d12= '))\n",
        "d21 = int(input('d21= '))\n",
        "d22 = int(input('d22= '))\n",
        "MD = np.array([[d11, d12], [d21, d22])\n",
        "print(MD)"
      ],
      "execution_count": null,
      "outputs": []
    },
    {
      "cell_type": "markdown",
      "metadata": {
        "id": "2HBy9rOJo_AX"
      },
      "source": [
        "#Transposta"
      ]
    },
    {
      "cell_type": "code",
      "metadata": {
        "id": "vKNf2NCupCUe"
      },
      "source": [
        "# Isere MA.T ou MB.T para achar a transposta de cada uma das matrizes.\n",
        "MA.T"
      ],
      "execution_count": null,
      "outputs": []
    },
    {
      "cell_type": "markdown",
      "metadata": {
        "id": "qBTIS5BGxmTf"
      },
      "source": [
        "#Determinante"
      ]
    },
    {
      "cell_type": "code",
      "metadata": {
        "id": "D7fqic-jxyIG"
      },
      "source": [
        "Det = np.linalg.det(MA)\n",
        "print(Det)"
      ],
      "execution_count": null,
      "outputs": []
    },
    {
      "cell_type": "markdown",
      "metadata": {
        "id": "BiirGm7vydXK"
      },
      "source": [
        "#Inversa"
      ]
    },
    {
      "cell_type": "code",
      "metadata": {
        "id": "KtLHAKesygAY"
      },
      "source": [
        "Inv = np.linalg.inv(MA)\n",
        "print(Inv)"
      ],
      "execution_count": null,
      "outputs": []
    },
    {
      "cell_type": "markdown",
      "metadata": {
        "id": "qmiHqzZDzdRq"
      },
      "source": [
        "#Traço\n",
        "É a soma dos elementos da diagonal principal."
      ]
    },
    {
      "cell_type": "code",
      "metadata": {
        "id": "Eh-AEtR5zfXR"
      },
      "source": [
        "Traco = np.trace(MA)\n",
        "print(Traco)"
      ],
      "execution_count": null,
      "outputs": []
    }
  ]
}