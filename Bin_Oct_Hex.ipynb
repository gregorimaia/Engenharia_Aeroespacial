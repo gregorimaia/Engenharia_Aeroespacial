{
  "nbformat": 4,
  "nbformat_minor": 0,
  "metadata": {
    "colab": {
      "name": "Bin_Oct_Hex.ipynb",
      "provenance": [],
      "authorship_tag": "ABX9TyOHho085ZS7sI7S/HsGt8l0",
      "include_colab_link": true
    },
    "kernelspec": {
      "name": "python3",
      "display_name": "Python 3"
    },
    "language_info": {
      "name": "python"
    }
  },
  "cells": [
    {
      "cell_type": "markdown",
      "metadata": {
        "id": "view-in-github",
        "colab_type": "text"
      },
      "source": [
        "<a href=\"https://colab.research.google.com/github/gregorimaia/Engenharia_Aeroespacial/blob/main/Bin_Oct_Hex.ipynb\" target=\"_parent\"><img src=\"https://colab.research.google.com/assets/colab-badge.svg\" alt=\"Open In Colab\"/></a>"
      ]
    },
    {
      "cell_type": "code",
      "metadata": {
        "colab": {
          "base_uri": "https://localhost:8080/"
        },
        "id": "f6kUfmamk5gk",
        "outputId": "68a16ffe-1542-4526-83a7-78a8f4beb8a6"
      },
      "source": [
        "Bin = 0b100\n",
        "print('100 Binary: ', Bin)"
      ],
      "execution_count": 1,
      "outputs": [
        {
          "output_type": "stream",
          "name": "stdout",
          "text": [
            "100 Binary:  4\n"
          ]
        }
      ]
    },
    {
      "cell_type": "code",
      "metadata": {
        "colab": {
          "base_uri": "https://localhost:8080/"
        },
        "id": "ZamQiiXFlSpN",
        "outputId": "608f1bd5-3131-4fc2-d336-6ead2097e527"
      },
      "source": [
        "Oct = 0o100\n",
        "print('100 Octal: ', Oct)"
      ],
      "execution_count": 2,
      "outputs": [
        {
          "output_type": "stream",
          "name": "stdout",
          "text": [
            "100 Octal:  64\n"
          ]
        }
      ]
    },
    {
      "cell_type": "code",
      "metadata": {
        "colab": {
          "base_uri": "https://localhost:8080/"
        },
        "id": "sEGrg2SFltcU",
        "outputId": "4df29ab0-dc73-4d5b-b8c3-3a4281cf96a1"
      },
      "source": [
        "Hex = 0x100\n",
        "print('100 Hexadecimal: ', Hex)"
      ],
      "execution_count": 3,
      "outputs": [
        {
          "output_type": "stream",
          "name": "stdout",
          "text": [
            "100 Hexadecimal:  256\n"
          ]
        }
      ]
    }
  ]
}