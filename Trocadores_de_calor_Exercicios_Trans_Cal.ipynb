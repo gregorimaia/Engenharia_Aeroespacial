{
  "nbformat": 4,
  "nbformat_minor": 0,
  "metadata": {
    "colab": {
      "name": "Trocadores_de_calor_Exercicios_Trans_Cal.ipynb",
      "provenance": [],
      "authorship_tag": "ABX9TyOHVzdWE27Wakpifb6+fNW2",
      "include_colab_link": true
    },
    "kernelspec": {
      "name": "python3",
      "display_name": "Python 3"
    },
    "language_info": {
      "name": "python"
    }
  },
  "cells": [
    {
      "cell_type": "markdown",
      "metadata": {
        "id": "view-in-github",
        "colab_type": "text"
      },
      "source": [
        "<a href=\"https://colab.research.google.com/github/gregorimaia/Engenharia_Aeroespacial/blob/main/Trocadores_de_calor_Exercicios_Trans_Cal.ipynb\" target=\"_parent\"><img src=\"https://colab.research.google.com/assets/colab-badge.svg\" alt=\"Open In Colab\"/></a>"
      ]
    },
    {
      "cell_type": "markdown",
      "source": [
        "# Tarefa Final - DEM1104 - Princípio de Transmissão de Calor - Grégori Maia"
      ],
      "metadata": {
        "id": "1dp9HTYkT8Qa"
      }
    },
    {
      "cell_type": "markdown",
      "source": [
        "### **9.1** Óleo quente deve ser resfriado em um trocador de calor de tubo duplo em contracor- rente. Os tubos de cobre internos têm diâmetro de 2 cm e espessura desprezível. O diâmetro interno do tubo externo (casco) é 3 cm. A água escoa através do tubo a uma taxa de 0,5 kg/s, e o óleo escoa através do casco a uma taxa de 0,8 kg/s. Consideran- do as temperaturas médias da água e do óleo como 45 °C e 80 °C, respectivamente, determine o coeficiente global de transferência de calor desse trocador de calor.\n"
      ],
      "metadata": {
        "id": "X4aPnoW2eATi"
      }
    },
    {
      "cell_type": "code",
      "execution_count": null,
      "metadata": {
        "id": "UIyxadRud_Vh",
        "colab": {
          "base_uri": "https://localhost:8080/"
        },
        "outputId": "9d2b1b6f-758d-487e-c062-e0746ef47fa9"
      },
      "outputs": [
        {
          "output_type": "stream",
          "name": "stdout",
          "text": [
            "A velocidade é: 1.61 m/s\n",
            "O número de Reynolds é  53431.18\n",
            "O número de Nusselt é: 240.34\n",
            "O coeficiente de transferência de calor é: 7654.98 W/m^2.K\n",
            "O diâmetro hidráulico é  0.01 metros.\n",
            "A velocidade média para o óleo é 2.06 metros por segundo.\n",
            "O número de Reynolds para o óleo é 542.59\n",
            "75.21\n",
            "Coeficiente global de transferência de calor: 74.48 W/m^2.K\n"
          ]
        }
      ],
      "source": [
        "# As propriedades da água a 45°C\n",
        "rho = 990.1   # kg/m^3\n",
        "Pr = 3.91\n",
        "k = 0.637     # W/m.K\n",
        "v = 0.602 * 10**(-6)    # m^2/s\n",
        "# As propriedades do óleo a 80°C\n",
        "orho = 852    # kg/m^3\n",
        "oPr = 499.3\n",
        "ok = 0.138    # W/m.K\n",
        "ov = 3.794 * 10**(-5)   # m^2/s\n",
        "# A velocidade média da água no tubo e o número de Reynolds\n",
        "m_dot = 0.5   #kg/s\n",
        "D = 0.02      #m\n",
        "pi = 3.14\n",
        "A_c = (1/4)*pi*D**2\n",
        "V = m_dot/(rho*A_c)\n",
        "print(\"A velocidade é:\",round(V,2),'m/s')\n",
        "Re = (V*D)/v\n",
        "print('O número de Reynolds é ',round(Re,2))\n",
        "# Determinando o número de Nusselt\n",
        "Nu = 0.023*Re**0.8*Pr**0.4\n",
        "print('O número de Nusselt é:', round(Nu,2))\n",
        "\n",
        "h_i = k/D*Nu\n",
        "print('O coeficiente de transferência de calor é:', round(h_i,2), 'W/m^2.K')\n",
        "D_0 = 0.03 #m\n",
        "D_i = 0.02 #m\n",
        "Dh = D_0 - D_i# O diâmetro hidráulico \n",
        "print('O diâmetro hidráulico é ', round(Dh,2),'metros.')\n",
        "# Velocidade média e o número de Reynolds para o óleo\n",
        "om_dot = 0.8 #kg/s\n",
        "oV = om_dot/(rho*((1/4)*pi*((D_0**2)-(D_i**2))))\n",
        "print('A velocidade média para o óleo é', round(oV,2),'metros por segundo.')\n",
        "Re = (oV*Dh)/ov\n",
        "print('O número de Reynolds para o óleo é', round(Re,2))\n",
        "Nu = 5.45 # encontrado tabelado por interpolação\n",
        "h_0 = ok/Dh*Nu\n",
        "print(round(h_0,2))\n",
        "# Coeficiente global de transferência de calor para o trocador de calor\n",
        "U = 1/((1/h_i)+(1/h_0))\n",
        "print('Coeficiente global de transferência de calor:', round(U, 2),'W/m^2.K')"
      ]
    },
    {
      "cell_type": "markdown",
      "source": [
        "### **9.2** Um trocador de calor de tubo duplo (casco e tubo) é construído com um tubo interno de aço inoxidável (k = 15,1 W/m.K) de diâmetro interno Di = 1,5 cm e diâmetro externo Do = 1,9 cm e um casco externo de diâmetro interno de 3,2 cm. O coeficiente de transferência de calor por convecção é dado como hi = 800 W/m2.K sobre a superfície interna do tubo e ho = 1200 W/m2.K sobre a superfície externa. Para um fator de incrustação de Rf,i = 0,0004 m2.K/W no lado do tubo e Rf,o = 0,0001 m2.K/W no lado do casco, determine (a) a resistência térmica do trocador de calor por unidade de comprimento e (b) os coeficientes globais de transferência de calor Ui e Uo com base nas superfícies interna e externa do tubo, respectivamente."
      ],
      "metadata": {
        "id": "-qVn5gb60WTD"
      }
    },
    {
      "cell_type": "code",
      "source": [
        "import math\n",
        "# (a)\n",
        "k = 15.1 #W/m.K \n",
        "Di = 0.015 #m diâmetro interno\n",
        "Do = 0.019 #m diâmetro externo\n",
        "Dei = 3.2 #cm diâmetro interno do casco externo\n",
        "hi = 800 #W/m^2.K coeficiente de transferência de calor por convecção \n",
        "#sobre a superfície interna do tubo\n",
        "ho = 1200 #W/m^2.K coeficiente de transferência de calor por convecção\n",
        "# sobre a superfície externa do tubo\n",
        "Rfi = 0.0004 #m^2.K/W fator de incrustração no lado do tubo\n",
        "Rfo = 0.0001 #m^2.K/W fator de incristração no lado do casco\n",
        "L = 1 #metro\n",
        "pi = 3.14\n",
        "# Área interna e externa:\n",
        "Ai = pi * Di * L\n",
        "Ao = pi * Do * L\n",
        "print('Área interna:',round(Ai,4),'m^2 e área externa:',round(Ao,4),'m^2')\n",
        "# Resistência térmica total:\n",
        "R = (1/(hi*Ai))+(Rfi/Ai)+(math.log(Do/Di))/(2*pi*(k)*(L))+Rfo/Ao+1/(ho*Ao)\n",
        "print('A resistência térmica total é ',round(R,4),'°C/W')\n",
        "\n",
        "#(b)\n",
        "#Coeficientes globais de transferência de calor baseados nas \n",
        "#superfícies interna e externa.\n",
        "Ui = 1/(R*Ai)\n",
        "Uo = 1/(R*Ao)\n",
        "print('Os coeficientes globais de transferência de calor baseados nas superfícies interna e externa, respectivamente são',round(Ui,2),'e',round(Uo,2),'W/m^2.K')"
      ],
      "metadata": {
        "colab": {
          "base_uri": "https://localhost:8080/"
        },
        "id": "3HTmf5vc1YsT",
        "outputId": "a087d55f-ec22-4873-b2e5-084200ba6b15"
      },
      "execution_count": null,
      "outputs": [
        {
          "output_type": "stream",
          "name": "stdout",
          "text": [
            "Área interna: 0.0471 m^2 e área externa: 0.0597 m^2\n",
            "A resistência térmica total é  0.0532 °C/W\n",
            "Os coeficientes globais de transferência de calor baseados nas superfícies interna e externa, respectivamente são 399.32 e 315.25 W/m^2.K\n"
          ]
        }
      ]
    },
    {
      "cell_type": "markdown",
      "source": [
        "###**9.3** Vapor no condensador de uma termoelétrica deve ser condensado a uma temperatura de 30°C com água de refrigeração de um lago próximo que entra nos tubos do condensador a 14°C e os deixa a 22°C. A superfície dos tubos tem 45 m2, e o coeficiente global de transferência de calor é 2100 W/m2.K. Determine (a) a vazão mássica necessária da água de resfriamento e (b) a taxa de condensação do vapor no condensador."
      ],
      "metadata": {
        "id": "3QoFuT7u-Vws"
      }
    },
    {
      "cell_type": "code",
      "source": [
        "Thent = 30 #°C temperatura de vaporização na entrada\n",
        "Thsai = 30 #°C temperatura de vaporização na saída\n",
        "Tcsai = 22 #°C temperatura de saída da água\n",
        "Tcent = 14 #°C temperatura de entrada da água\n",
        "#Diferença de temperatura entre o vapor e a \n",
        "#água na entrada e saída do condensador:\n",
        "deltaT1 = Thent - Tcsai\n",
        "deltaT2 = Thsai - Tcent\n",
        "print('''Diferença de calor\n",
        " nas extremidades:''',round(deltaT1,2),'°C e',round(deltaT2,2),'°C')\n",
        "# A diferença de temperatura média logarítmica é a diferença de temperatura\n",
        "# correta entre os dois fluidos:\n",
        "deltaTlm = (deltaT1-deltaT2)/math.log(deltaT1/deltaT2)\n",
        "print('A diferença de temperatura média logrítmica é',round(deltaTlm,2),'°C')\n",
        "# A taxa de transferência de calor no condensador:\n",
        "U = 2100 #W/m^2.K\n",
        "As = 45 #m^2\n",
        "Q_dot = U*As*deltaTlm\n",
        "print('A taxa de transferência de calor no condensador é',round(Q_dot,2),'W')\n",
        "# A vazão mássica:\n",
        "cp = 4.184 #kJ/kg.K\n",
        "hfg = 2431 #kJ/kg\n",
        "m_dot_agua = Q_dot/(cp*(Tcsai-Tcent))\n",
        "m_dot_vapor = Q_dot/hfg\n",
        "print('A vazão mássica de água é',round(m_dot_agua,2),'g/s')\n",
        "print('A vazão mássica de vapor é',round(m_dot_vapor,2),'g/s')"
      ],
      "metadata": {
        "colab": {
          "base_uri": "https://localhost:8080/"
        },
        "id": "YcQRS7OxBa_1",
        "outputId": "fb7ebf06-7540-418e-9d6c-3437686b5fbb"
      },
      "execution_count": null,
      "outputs": [
        {
          "output_type": "stream",
          "name": "stdout",
          "text": [
            "Diferença de calor nas extremidades: 8 °C e 16 °C\n",
            "A diferença de temperatura média logrítmica é 11.54 °C\n",
            "A taxa de transferência de calor no condensador é 1090677.45 W\n",
            "A vazão mássica de água é 32584.77 g/s\n",
            "A vazão mássica de vapor é 448.65 g/s\n"
          ]
        }
      ]
    },
    {
      "cell_type": "markdown",
      "source": [
        "###**9.4** Um trocador de calor contracorrente de duplo tubo deve aquecer água de 20°C a 80°C a uma taxa de 1,2 kg/s. O aquecimento é obtido por água geotérmica disponível a 160°C com vazão mássica de 2 kg/s. O tubo interno tem uma parede fina e diâmetro de 1,5 cm. Considerando que o coeficiente global de transferência de calor do trocador de calor é 640 W/m2.K, determine o comprimento do trocador de calor necessário para alcançar o aquecimento desejado."
      ],
      "metadata": {
        "id": "sVjpfRdp__gz"
      }
    },
    {
      "cell_type": "code",
      "source": [
        "import math\n",
        "cp_agua = 4.18 #kJ/kg-K calor específico da água\n",
        "cp_fluido = 4.31 #kJ/kg-K calor específico do fluido geotérmico\n",
        "Tsai = 80 #°C\n",
        "Tent = 20 #°C\n",
        "T_agua_geo = 160 #°C\n",
        "m_dot_agua = 1.2 #kg/s\n",
        "m_dot_fluido = 2 #kg/s\n",
        "pi = 3.14\n",
        "D = 0.015 #m\n",
        "#Taxa de transferência de calor no trocador de calor:\n",
        "Q_dot_agua = (m_dot_agua*cp_agua*(Tsai-Tent))\n",
        "print('Taxa de tranf. de calor no trocador é',round(Q_dot_agua,2),'kW')\n",
        "#Temperatura de saída da água:\n",
        "Tsaida = T_agua_geo - Q_dot_agua/(m_dot_fluido*cp_fluido)\n",
        "print('A temperatura de saída da água é',round(Tsaida,2),'°C')\n",
        "#Diferença de temp. média logarítmica:\n",
        "deltaT1 = T_agua_geo - Tsai\n",
        "deltaT2 = Tsaida - Tent\n",
        "deltaTlm = (deltaT1 - deltaT2)/math.log(deltaT1/deltaT2)\n",
        "print('Diferença de temperatura média logarítmica:',round(deltaTlm,2),'°C')\n",
        "#Área de superfície do trocador de calor\n",
        "U = 640 #W/m^2.K coeficiente global de transf. de calor\n",
        "As = Q_dot_agua*1000/(U*deltaTlm)\n",
        "print('Área de superfície do trocador de calor:',round(As,2),'m^2')\n",
        "#Comprimento L do tubo:\n",
        "L =  As/(pi*D)\n",
        "print('O comp. do tubo deve ser',round(L,2),'metros para essa superfície.')"
      ],
      "metadata": {
        "colab": {
          "base_uri": "https://localhost:8080/"
        },
        "id": "Bw0QpKZBBbvi",
        "outputId": "3874af94-27dd-4d08-e634-4c4537a760da"
      },
      "execution_count": null,
      "outputs": [
        {
          "output_type": "stream",
          "name": "stdout",
          "text": [
            "Taxa de tranf. de calor no trocador é 300.96 kW\n",
            "A temperatura de saída da água é 125.09 °C\n",
            "Diferença de temperatura média logarítmica: 91.97 °C\n",
            "Área de superfície do trocador de calor: 5.11 m^2\n",
            "O comp. do tubo deve ser 108.55 metros para essa superfície.\n"
          ]
        }
      ]
    },
    {
      "cell_type": "markdown",
      "source": [
        "###**9.5** Um trocador de calor com 2 passes no casco e 4 nos tubos é utilizado para aquecer glicerina entre 20°C e 50°C, com água quente que entra a 80°C nos tubos de parede fina de 2 cm de diâmetro e os deixa a 40°C. O comprimento total dos tubos no trocador de calor é 60 m. O coeficiente de transferência de calor por convecção é 25 W/m2.K no lado da glicerina (casco) e de 160 W/m2.K no lado da água (tubos). Determine a taxa de transferência de calor no trocador de calor (a) antes de qualquer incrustação e (b) depois que uma incrustação com fator de 0,0006 m2.K/W ocorre sobre a superfície externa dos tubos."
      ],
      "metadata": {
        "id": "-l3YwnUcATcS"
      }
    },
    {
      "cell_type": "code",
      "source": [
        "import math\n",
        "#Área da susperfície do trocador de calor\n",
        "pi = 3.14\n",
        "D = 0.02 #m diâmetro da parede do tubo\n",
        "L = 60 #m comprimento total dos tubos\n",
        "As = pi*D*L\n",
        "print('Área da superfície do trocador:',round(As,2),'m^2')\n",
        "Thent = 80 #°C\n",
        "Thsai = 40 #°C\n",
        "Tcsai = 50 #°C\n",
        "Tcent = 20 #°C\n",
        "deltaT1 = Thent - Tcsai\n",
        "deltaT2 = Thsai - Tcent\n",
        "deltaTlmCF = (deltaT1 - deltaT2)/math.log(deltaT1/deltaT2)\n",
        "print('Diferença de temperatura média logarítmica:',round(deltaTlmCF,2),'°C')\n",
        "t2 = 40\n",
        "t1 = 80\n",
        "T1 = 20\n",
        "T2 = 50\n",
        "P = (t2-t1)/(T1-t1)\n",
        "R = (T1-T2)/(t2-t1)\n",
        "print('P:',round(P,2),'R:',round(R,2))\n",
        "#Fator de correção\n",
        "F = 0.91\n",
        "#a) sem incrustração, o coeficiente de global de transf. de calor U\n",
        "hi = 160 #W/m^2.K\n",
        "ho = 25 #W/m^2.K\n",
        "Us = 1/((1/hi)+(1/ho))\n",
        "print('Coef. Global de Transf. de calor U (sem incrustração):'\n",
        ",round(Us,2),'W/m^2.K')\n",
        "# Taxa de transferência de calor:\n",
        "Q_dot_s = Us*As*F*deltaTlmCF\n",
        "print('Taxa de transf. de calor(sem incrustração):',round(Q_dot_s,2),'W')\n",
        "#Com incrustração em uma das superfícies\n",
        "Rf = 0.0006 #m^2.K/W\n",
        "Uc = 1/((1/hi)+(1/ho)+Rf)\n",
        "print('Coef. Global de Transf. de calor U (com incrustração):'\n",
        ",round(Uc,2),'W/m^2.K')\n",
        "Q_dot_c = Uc*As*F*deltaTlmCF\n",
        "print('Taxa de transf. de calor(sem incrustração):',round(Q_dot_c,2),'W')\n",
        "print('A taxa de transferência de calor diminui com incrustração.')"
      ],
      "metadata": {
        "id": "7tXnnpTEBcZb",
        "colab": {
          "base_uri": "https://localhost:8080/"
        },
        "outputId": "1fdf3666-faec-4db4-8220-b7f33a892348"
      },
      "execution_count": null,
      "outputs": [
        {
          "output_type": "stream",
          "name": "stdout",
          "text": [
            "Área da superfície do trocador: 3.77 m^2\n",
            "Diferença de temperatura média logarítmica: 24.66 °C\n",
            "P: 0.67 R: 0.75\n",
            "Coef. Global de Transf. de calor U (sem incrustração): 21.62 W/m^2.K\n",
            "Taxa de transf. de calor(sem incrustração): 1828.47 W\n",
            "Coef. Global de Transf. de calor U (com incrustração): 21.34 W/m^2.K\n",
            "Taxa de transf. de calor(sem incrustração): 1805.05 W\n"
          ]
        }
      ]
    },
    {
      "cell_type": "markdown",
      "source": [
        "###**9.6** Um teste é realizado para determinar o coeficiente global de transferência de calor em um radiador automotivo, que é um trocador de calor compacto de escoamento cruzado água-ar com ambos os fluidos (ar e água) não misturados. O radiador tem 40 tubos de 0,5 cm de diâmetro interno e 65 cm de comprimento, estreitamente espaçados em uma matriz de placas aletadas. A água quente entra nos tubos a 90°C a uma taxa de 0,6 kg/s e os deixa a 65°C. O ar escoa através do radiador pelos espaços entre aletas, sendo aquecido a partir de 20°C até 40°C. Determine o coeficiente global de transferência de calor Ui desse radiador com base na superfície interna dos tubos."
      ],
      "metadata": {
        "id": "B0WceVpsAjRD"
      }
    },
    {
      "cell_type": "code",
      "source": [
        "import math\n",
        "# Calor específico da água na temperatura média\n",
        "m_dot = 0.6 #kg/s\n",
        "T1 = 90 #°C\n",
        "T2 = 65 #°C\n",
        "Tm = (T1+T2)/2 \n",
        "# Tabelado\n",
        "Cp = 4.195 #kJ/kg.K\n",
        "print('Temperatura média:',round(Tm,2),'°C')\n",
        "print('Cp da água de acordo com a temp. média (tabelado):',Cp,'kJ/kg.K')\n",
        "#Taxa de transf. de calor\n",
        "Q_dot = (m_dot*Cp*(T1-T2))\n",
        "print('Taxa de transf. de calor:',Q_dot,'W')\n",
        "#Área de transf. de calor no lado dos tubos\n",
        "n = 40 #Número de tubos\n",
        "pi = 3.14\n",
        "Di = 0.005 #m diâmetro interno dos tubos\n",
        "L = 0.65 #m comprimento dos tubos\n",
        "Ai = n*pi*Di*L\n",
        "print('Área interna dos tubos:',round(Ai,2),'m^2')\n",
        "#Coeficiente global de transf. de calor\n",
        "Tc1 = 20 #°C\n",
        "Tc2 = 40 #°C\n",
        "deltaT1 = T1 - Tc2\n",
        "deltaT2 = T2 - Tc1\n",
        "deltaTlmCF = (deltaT1-deltaT2)/(math.log(deltaT1/deltaT2))\n",
        "print('Diferença de temp. média logarítmica:',round(deltaTlmCF,2),'°C')\n",
        "P = (T2-T1)/(Tc1-T1)\n",
        "R = (Tc1-Tc2)/(T2-T1)\n",
        "print('P:',round(P,2))\n",
        "print('R:',round(R,2))\n",
        "F = 0.97\n",
        "print('F:',F)\n",
        "Ui = Q_dot/(Ai*F*deltaTlmCF)\n",
        "print('Coeficiente global de transf. de calor:',round(Ui,2),'W/m^2.K')"
      ],
      "metadata": {
        "id": "i2t5lnPEBdBz",
        "colab": {
          "base_uri": "https://localhost:8080/"
        },
        "outputId": "d51a68f8-0e8c-4311-d861-648686982283"
      },
      "execution_count": null,
      "outputs": [
        {
          "output_type": "stream",
          "name": "stdout",
          "text": [
            "Temperatura média: 77.5 °C\n",
            "Cp da água de acordo com a temp. média (tabelado): 4.195 kJ/kg.K\n",
            "Taxa de transf. de calor: 62.925 W\n",
            "Área interna dos tubos: 0.41 m^2\n",
            "Diferença de temp. média logarítmica: 47.46 °C\n",
            "P: 0.36\n",
            "R: 0.8\n",
            "F: 0.97\n",
            "Coeficiente global de transf. de calor: 3.35 W/m^2.K\n"
          ]
        }
      ]
    },
    {
      "cell_type": "markdown",
      "source": [
        "###**9.7** Água fria entra em um trocador de calor contracorrente a 10°C a uma taxa de 8 kg/s, onde é aquecida por um escoamento de água quente que entra no trocador de calor a 70°C a uma taxa de 2 kg/s. Considerando que o calor específico da água se mantém constante em cp = 4,18 kJ/kg.K, determine a taxa máxima de transferência de calor e as temperaturas de saída dos escoamentos de água fria e quente para esse caso limite."
      ],
      "metadata": {
        "id": "qJIm197vA4YI"
      }
    },
    {
      "cell_type": "code",
      "source": [
        "Cp = 4.18 #kJ/kg.K\n",
        "m_dot_h = 2 #kg/s\n",
        "m_dot_f = 8 #kg/s\n",
        "Thent = 70 #°C\n",
        "Tcent = 10 #°C\n",
        "#Taxas de capacidade térmica dos fluidos quente e frio\n",
        "Ch = m_dot_h * Cp\n",
        "Cf = m_dot_f * Cp\n",
        "print('Taxas de capacidade térmica quente e frio:',round(Ch,2),'''e\n",
        "''',round(Cf,2),'kW/K')\n",
        "C_min = Ch\n",
        "#Taxa máxima de transf. de Calor\n",
        "Q_dot_max = C_min *(Thent - Tcent)\n",
        "print('Taxa máxima de transf. de calor:',round(Q_dot_max,2),'kW')\n",
        "# Diferença de temp. máxima\n",
        "deltaTmax = Thent - Tcent\n",
        "print('A diferença de temperatura máxima no trocador de calor é'\n",
        ",deltaTmax,'°C assim a água quente \\não será resfriada mais que'\n",
        ",deltaTmax,'°C e a água fria não será resfriada mais que''',deltaTmax,'°C.')\n",
        "#Temp. de saída do fluido frio e quente no caso limite\n",
        "Tcsai = Tcent + Q_dot_max/Cf\n",
        "Thsai = Thent - Q_dot_max/Ch\n",
        "print('Temp. de saída do fluido frio e\\\n",
        " quente no caso limite:',round(Tcsai,2),'e',round(Thsai,2),'°C.')"
      ],
      "metadata": {
        "id": "c-nuA-bKBdvL",
        "colab": {
          "base_uri": "https://localhost:8080/"
        },
        "outputId": "01cfaf3a-db48-42d7-8b6a-4198dfc3d41b"
      },
      "execution_count": null,
      "outputs": [
        {
          "output_type": "stream",
          "name": "stdout",
          "text": [
            "Taxas de capacidade térmica quente e frio: 8.36 e\n",
            " 33.44 kW/K\n",
            "Taxa máxima de transf. de calor: 501.6 kW\n",
            "A diferença de temperatura máxima no trocador de calor é 60 °C assim a água quente \n",
            "ão será resfriada mais que 60 °C e a água fria não será resfriada mais que 60 °C.\n",
            "Temp. de saída do fluido frio e quente no caso limite: 25.0 e 10.0 °C.\n"
          ]
        }
      ]
    },
    {
      "cell_type": "markdown",
      "source": [
        "###**9.8** Um trocador de calor contracorrente de duplo tubo deve aquecer água de 20°C a 80°C a uma taxa de 1,2 kg/s. O aquecimento é obtido por água geotérmica disponível a 160°C com vazão mássica de 2 kg/s. O tubo interno tem parede fina e diâmetro de 1,5 cm. O coeficiente global de transferência de calor do trocador de calor é 640 W/m2.K. Usando o método da efetividade-NTU, determine o comprimento do trocador de calor necessário para alcançar o aquecimento desejado."
      ],
      "metadata": {
        "id": "FM5xIoQ_BAJS"
      }
    },
    {
      "cell_type": "code",
      "source": [
        "import math\n",
        "pi = 3.14\n",
        "D = 0.015 #m\n",
        "U = 640 #W/m^2.K\n",
        "m_dot_h = 2 #kg/s\n",
        "m_dot_c = 1.2 #kg/s\n",
        "Cph = 4.31 #kJ/kg.K\n",
        "Cpc = 4.18 #kJ/kg.K\n",
        "Tent = 20 #°C\n",
        "Tsai = 80 #°C\n",
        "Ch = m_dot_h * Cph\n",
        "Cc = m_dot_c * Cpc\n",
        "print('Taxa de capacidade de calor do fluido quente:',round(Ch,2),'kW/K.')\n",
        "print('Taxa de capacidade de calor do frio quente:',round(Cc,2),'kW/K.')\n",
        "Cmin = Cc\n",
        "Cmax = Ch\n",
        "c = Cmin/Ch\n",
        "print('c =',round(c,2))\n",
        "Thent = 160 #°C\n",
        "Tcent = 20 #°C\n",
        "Q_dot_max = Cmin*(Thent-Tcent)\n",
        "print('Taxa de transf. de calor máxima:',round(Q_dot_max,2),'kW.')\n",
        "Q_dot = (m_dot_c*Cpc*(Tsai - Tent))\n",
        "print('Taxa de transf. de calor real:',round(Q_dot,2),'kW.')\n",
        "𝜀 = Q_dot/Q_dot_max\n",
        "print('Efetividade do trocador de calor 𝜀:',round(𝜀,2),'.')\n",
        "NTU = (1/(c-1))*math.log((𝜀-1)/((𝜀*c)-1))\n",
        "print('NTU:',round(NTU,2),'.')\n",
        "As = (NTU*(Cmin*1000))/U\n",
        "print('Área de transf de calor:',round(As,2),'m^2.')\n",
        "L = As/(pi*D)\n",
        "print('''Comprimento do tubo L para fornecer a área de \n",
        "transf. de calor:''',round(L,2),'m.')"
      ],
      "metadata": {
        "id": "BWokIQsLBeMr",
        "colab": {
          "base_uri": "https://localhost:8080/"
        },
        "outputId": "c02f6794-c5dc-4d80-ca1f-d64a62cb16fd"
      },
      "execution_count": null,
      "outputs": [
        {
          "output_type": "stream",
          "name": "stdout",
          "text": [
            "Taxa de capacidade de calor do fluido quente: 8.62 kW/K.\n",
            "Taxa de capacidade de calor do frio quente: 5.02 kW/K.\n",
            "c = 0.58\n",
            "Taxa de transf. de calor máxima: 702.24 kW.\n",
            "Taxa de transf. de calor real: 300.96 kW.\n",
            "Efetividade do trocador de calor 𝜀: 0.43 .\n",
            "NTU: 0.65 .\n",
            "Área de transf de calor: 5.11 m^2.\n",
            "Comprimento do tubo L para fornecer a área de \n",
            "transf. de calor: 108.55 m.\n"
          ]
        }
      ]
    },
    {
      "cell_type": "markdown",
      "source": [
        "###**9.9** Óleo quente deve ser resfriado com água em um trocador de calor com 1 passe no casco e 8 passes nos tubos. Os tubos têm paredes finas de cobre e diâmetro interno de 1,4 cm. O comprimento de cada passe de tubo no trocador de calor é 5 m, e o coeficiente global de transferência de calor é 310 W/m2.K. A água escoa através dos tubos a uma taxa de 0,2 kg/s e o óleo escoa através do casco a uma taxa de 0,3 kg/s. Água e óleo entram com temperaturas de 20°C e 150°C, respectivamente. Determine a taxa de transferência de calor no trocador de calor e as temperaturas de saída da água e do óleo."
      ],
      "metadata": {
        "id": "54xuFEWQBLwU"
      }
    },
    {
      "cell_type": "code",
      "source": [
        "m_dot_o = 0.3 #kg/s\n",
        "m_dot_a = 0.2 #kg/s\n",
        "Toent = 150 #°C\n",
        "Taent = 20 #°C\n",
        "Cpa = 4.18 #kJ/kg.K\n",
        "Cpo = 2.13 #kJ/kg.K\n",
        "Co = m_dot_o * Cpo\n",
        "Ca = m_dot_a * Cpa\n",
        "print('Taxa de capacidade de calor da água:',round(Ca,2),'kW/K')\n",
        "print('Taxa de capacidade de calor do óleo:',round(Co,2),'kW/K')\n",
        "Cmin = Co\n",
        "Cmax = Ca\n",
        "c = Cmin/Cmax\n",
        "print('c =',round(c,2))\n",
        "Q_dot_max = Cmin * (Toent - Taent)\n",
        "print('Taxa de transferência de calor máxima:',round(Q_dot_max,2))"
      ],
      "metadata": {
        "id": "8Nfmot65BewK",
        "colab": {
          "base_uri": "https://localhost:8080/"
        },
        "outputId": "6f22d77e-91e2-426a-b5af-533c25d89cbf"
      },
      "execution_count": 4,
      "outputs": [
        {
          "output_type": "stream",
          "name": "stdout",
          "text": [
            "Taxa de capacidade de calor da água: 0.84 kW/K\n",
            "Taxa de capacidade de calor do óleo: 0.64 kW/K\n",
            "c = 0.76\n",
            "Taxa de transferência de calor máxima: 83.07\n"
          ]
        }
      ]
    }
  ]
}