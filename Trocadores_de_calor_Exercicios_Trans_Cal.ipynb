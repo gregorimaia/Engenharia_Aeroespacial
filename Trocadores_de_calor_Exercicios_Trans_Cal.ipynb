{
  "nbformat": 4,
  "nbformat_minor": 0,
  "metadata": {
    "colab": {
      "name": "Trocadores_de_calor_Exercicios_Trans_Cal.ipynb",
      "provenance": [],
      "authorship_tag": "ABX9TyOf0stCXN/T5g9TxJz2zbsM",
      "include_colab_link": true
    },
    "kernelspec": {
      "name": "python3",
      "display_name": "Python 3"
    },
    "language_info": {
      "name": "python"
    }
  },
  "cells": [
    {
      "cell_type": "markdown",
      "metadata": {
        "id": "view-in-github",
        "colab_type": "text"
      },
      "source": [
        "<a href=\"https://colab.research.google.com/github/gregorimaia/Engenharia_Aeroespacial/blob/main/Trocadores_de_calor_Exercicios_Trans_Cal.ipynb\" target=\"_parent\"><img src=\"https://colab.research.google.com/assets/colab-badge.svg\" alt=\"Open In Colab\"/></a>"
      ]
    },
    {
      "cell_type": "markdown",
      "source": [
        "### **9.1** Óleo quente deve ser resfriado em um trocador de calor de tubo duplo em contracor- rente. Os tubos de cobre internos têm diâmetro de 2 cm e espessura desprezível. O diâmetro interno do tubo externo (casco) é 3 cm. A água escoa através do tubo a uma taxa de 0,5 kg/s, e o óleo escoa através do casco a uma taxa de 0,8 kg/s. Consideran- do as temperaturas médias da água e do óleo como 45 °C e 80 °C, respectivamente, determine o coeficiente global de transferência de calor desse trocador de calor.\n"
      ],
      "metadata": {
        "id": "X4aPnoW2eATi"
      }
    },
    {
      "cell_type": "code",
      "execution_count": 33,
      "metadata": {
        "id": "UIyxadRud_Vh",
        "colab": {
          "base_uri": "https://localhost:8080/",
          "height": 0
        },
        "outputId": "9d2b1b6f-758d-487e-c062-e0746ef47fa9"
      },
      "outputs": [
        {
          "output_type": "stream",
          "name": "stdout",
          "text": [
            "A velocidade é: 1.61 m/s\n",
            "O número de Reynolds é  53431.18\n",
            "O número de Nusselt é: 240.34\n",
            "O coeficiente de transferência de calor é: 7654.98 W/m^2.K\n",
            "O diâmetro hidráulico é  0.01 metros.\n",
            "A velocidade média para o óleo é 2.06 metros por segundo.\n",
            "O número de Reynolds para o óleo é 542.59\n",
            "75.21\n",
            "Coeficiente global de transferência de calor: 74.48 W/m^2.K\n"
          ]
        }
      ],
      "source": [
        "# As propriedades da água a 45°C\n",
        "rho = 990.1   # kg/m^3\n",
        "Pr = 3.91\n",
        "k = 0.637     # W/m.K\n",
        "v = 0.602 * 10**(-6)    # m^2/s\n",
        "# As propriedades do óleo a 80°C\n",
        "orho = 852    # kg/m^3\n",
        "oPr = 499.3\n",
        "ok = 0.138    # W/m.K\n",
        "ov = 3.794 * 10**(-5)   # m^2/s\n",
        "# A velocidade média da água no tubo e o número de Reynolds\n",
        "m_dot = 0.5   #kg/s\n",
        "D = 0.02      #m\n",
        "pi = 3.14\n",
        "A_c = (1/4)*pi*D**2\n",
        "V = m_dot/(rho*A_c)\n",
        "print(\"A velocidade é:\",round(V,2),'m/s')\n",
        "Re = (V*D)/v\n",
        "print('O número de Reynolds é ',round(Re,2))\n",
        "# Determinando o número de Nusselt\n",
        "Nu = 0.023*Re**0.8*Pr**0.4\n",
        "print('O número de Nusselt é:', round(Nu,2))\n",
        "\n",
        "h_i = k/D*Nu\n",
        "print('O coeficiente de transferência de calor é:', round(h_i,2), 'W/m^2.K')\n",
        "D_0 = 0.03 #m\n",
        "D_i = 0.02 #m\n",
        "Dh = D_0 - D_i# O diâmetro hidráulico \n",
        "print('O diâmetro hidráulico é ', round(Dh,2),'metros.')\n",
        "# Velocidade média e o número de Reynolds para o óleo\n",
        "om_dot = 0.8 #kg/s\n",
        "oV = om_dot/(rho*((1/4)*pi*((D_0**2)-(D_i**2))))\n",
        "print('A velocidade média para o óleo é', round(oV,2),'metros por segundo.')\n",
        "Re = (oV*Dh)/ov\n",
        "print('O número de Reynolds para o óleo é', round(Re,2))\n",
        "Nu = 5.45 # encontrado tabelado por interpolação\n",
        "h_0 = ok/Dh*Nu\n",
        "print(round(h_0,2))\n",
        "# Coeficiente global de transferência de calor para o trocador de calor\n",
        "U = 1/((1/h_i)+(1/h_0))\n",
        "print('Coeficiente global de transferência de calor:', round(U, 2),'W/m^2.K')"
      ]
    },
    {
      "cell_type": "markdown",
      "source": [
        "### **9.2** Um trocador de calor de tubo duplo (casco e tubo) é construído com um tubo interno de aço inoxidável (k = 15,1 W/m.K) de diâmetro interno Di = 1,5 cm e diâmetro externo Do = 1,9 cm e um casco externo de diâmetro interno de 3,2 cm. O coeficiente de transferência de calor por convecção é dado como hi = 800 W/m2.K sobre a superfície interna do tubo e ho = 1200 W/m2.K sobre a superfície externa. Para um fator de incrustação de Rf,i = 0,0004 m2.K/W no lado do tubo e Rf,o = 0,0001 m2.K/W no lado do casco, determine (a) a resistência térmica do trocador de calor por unidade de comprimento e (b) os coeficientes globais de transferência de calor Ui e Uo com base nas superfícies interna e externa do tubo, respectivamente."
      ],
      "metadata": {
        "id": "-qVn5gb60WTD"
      }
    },
    {
      "cell_type": "code",
      "source": [
        "import math\n",
        "# (a)\n",
        "k = 15.1 #W/m.K \n",
        "Di = 0.015 #m diâmetro interno\n",
        "Do = 0.019 #m diâmetro externo\n",
        "Dei = 3.2 #cm diâmetro interno do casco externo\n",
        "hi = 800 #W/m^2.K coeficiente de transferência de calor por convecção \n",
        "#sobre a superfície interna do tubo\n",
        "ho = 1200 #W/m^2.K coeficiente de transferência de calor por convecção\n",
        "# sobre a superfície externa do tubo\n",
        "Rfi = 0.0004 #m^2.K/W fator de incrustração no lado do tubo\n",
        "Rfo = 0.0001 #m^2.K/W fator de incristração no lado do casco\n",
        "L = 1 #metro\n",
        "pi = 3.14\n",
        "# Área interna e externa:\n",
        "Ai = pi * Di * L\n",
        "Ao = pi * Do * L\n",
        "print('Área interna:',round(Ai,4),'m^2 e área externa:',round(Ao,4),'m^2')\n",
        "# Resistência térmica total:\n",
        "R = (1/(hi*Ai))+(Rfi/Ai)+(math.log(Do/Di))/(2*pi*(k)*(L))+Rfo/Ao+1/(ho*Ao)\n",
        "print('A resistência térmica total é ',round(R,4),'°C/W')\n",
        "\n",
        "#(b)\n",
        "#Coeficientes globais de transferência de calor baseados nas \n",
        "#superfícies interna e externa.\n",
        "Ui = 1/(R*Ai)\n",
        "Uo = 1/(R*Ao)\n",
        "print('Os coeficientes globais de transferência de calor baseados nas superfícies interna e externa, respectivamente são',round(Ui,2),'e',round(Uo,2),'W/m^2.K')"
      ],
      "metadata": {
        "colab": {
          "base_uri": "https://localhost:8080/",
          "height": 0
        },
        "id": "3HTmf5vc1YsT",
        "outputId": "a087d55f-ec22-4873-b2e5-084200ba6b15"
      },
      "execution_count": 34,
      "outputs": [
        {
          "output_type": "stream",
          "name": "stdout",
          "text": [
            "Área interna: 0.0471 m^2 e área externa: 0.0597 m^2\n",
            "A resistência térmica total é  0.0532 °C/W\n",
            "Os coeficientes globais de transferência de calor baseados nas superfícies interna e externa, respectivamente são 399.32 e 315.25 W/m^2.K\n"
          ]
        }
      ]
    },
    {
      "cell_type": "markdown",
      "source": [
        "###**9.3** Vapor no condensador de uma termoelétrica deve ser condensado a uma temperatura de 30°C com água de refrigeração de um lago próximo que entra nos tubos do condensador a 14°C e os deixa a 22°C. A superfície dos tubos tem 45 m2, e o coeficiente global de transferência de calor é 2100 W/m2.K. Determine (a) a vazão mássica necessária da água de resfriamento e (b) a taxa de condensação do vapor no condensador."
      ],
      "metadata": {
        "id": "3QoFuT7u-Vws"
      }
    },
    {
      "cell_type": "code",
      "source": [
        "Thent = 30 #°C temperatura de vaporização na entrada\n",
        "Thsai = 30 #°C temperatura de vaporização na saída\n",
        "Tcsai = 22 #°C temperatura de saída da água\n",
        "Tcent = 14 #°C temperatura de entrada da água\n",
        "#Diferença de temperatura entre o vapor e a água na entrada e saída do condensador:\n",
        "deltaT1 = Thent - Tcsai\n",
        "deltaT2 = Thsai - Tcent\n",
        "print('Diferença de calor nas extremidades:',round(deltaT1,2),'°C e',round(deltaT2,2),'°C')\n",
        "# A diferença de temperatura média logarítmica é a diferença de temperatura\n",
        "# correta entre os dois fluidos:\n",
        "deltaTlm = (deltaT1-deltaT2)/math.log(deltaT1/deltaT2)\n",
        "print('A diferença de temperatura média logrítmica é',round(deltaTlm,2),'°C')\n",
        "# A taxa de transferência de calor no condensador:\n",
        "U = 2100 #W/m^2.K\n",
        "As = 45 #m^2\n",
        "Q_dot = U*As*deltaTlm\n",
        "print('A taxa de transferência de calor no condensador é',round(Q_dot,2),'W')\n",
        "# A vazão mássica:\n",
        "cp = 4.184 #kJ/kg.K\n",
        "hfg = 2431 #kJ/kg\n",
        "m_dot_agua = Q_dot/(cp*(Tcsai-Tcent))\n",
        "m_dot_vapor = Q_dot/hfg\n",
        "print('A vazão mássica de água é',round(m_dot_agua,2),'g/s')\n",
        "print('A vazão mássica de vapor é',round(m_dot_vapor,2),'g/s')"
      ],
      "metadata": {
        "colab": {
          "base_uri": "https://localhost:8080/",
          "height": 0
        },
        "id": "YcQRS7OxBa_1",
        "outputId": "fb7ebf06-7540-418e-9d6c-3437686b5fbb"
      },
      "execution_count": 35,
      "outputs": [
        {
          "output_type": "stream",
          "name": "stdout",
          "text": [
            "Diferença de calor nas extremidades: 8 °C e 16 °C\n",
            "A diferença de temperatura média logrítmica é 11.54 °C\n",
            "A taxa de transferência de calor no condensador é 1090677.45 W\n",
            "A vazão mássica de água é 32584.77 g/s\n",
            "A vazão mássica de vapor é 448.65 g/s\n"
          ]
        }
      ]
    },
    {
      "cell_type": "markdown",
      "source": [
        "###**9.4** Um trocador de calor contracorrente de duplo tubo deve aquecer água de 20°C a 80°C a uma taxa de 1,2 kg/s. O aquecimento é obtido por água geotérmica disponível a 160°C com vazão mássica de 2 kg/s. O tubo interno tem uma parede fina e diâmetro de 1,5 cm. Considerando que o coeficiente global de transferência de calor do trocador de calor é 640 W/m2.K, determine o comprimento do trocador de calor necessário para alcançar o aquecimento desejado."
      ],
      "metadata": {
        "id": "sVjpfRdp__gz"
      }
    },
    {
      "cell_type": "code",
      "source": [
        ""
      ],
      "metadata": {
        "id": "Bw0QpKZBBbvi"
      },
      "execution_count": null,
      "outputs": []
    },
    {
      "cell_type": "markdown",
      "source": [
        "###**9.5** Um trocador de calor com 2 passes no casco e 4 nos tubos é utilizado para aquecer glicerina entre 20°C e 50°C, com água quente que entra a 80°C nos tubos de parede fina de 2 cm de diâmetro e os deixa a 40°C. O comprimento total dos tubos no trocador de calor é 60 m. O coeficiente de transferência de calor por convecção é 25 W/m2.K no lado da glicerina (casco) e de 160 W/m2.K no lado da água (tubos). Determine a taxa de transferência de calor no trocador de calor (a) antes de qualquer incrustação e (b) depois que uma incrustação com fator de 0,0006 m2.K/W ocorre sobre a superfície externa dos tubos."
      ],
      "metadata": {
        "id": "-l3YwnUcATcS"
      }
    },
    {
      "cell_type": "code",
      "source": [
        ""
      ],
      "metadata": {
        "id": "7tXnnpTEBcZb"
      },
      "execution_count": null,
      "outputs": []
    },
    {
      "cell_type": "markdown",
      "source": [
        "###**9.6** Um teste é realizado para determinar o coeficiente global de transferência de calor em um radiador automotivo, que é um trocador de calor compacto de escoamento cruzado água-ar com ambos os fluidos (ar e água) não misturados. O radiador tem 40 tubos de 0,5 cm de diâmetro interno e 65 cm de comprimento, estreitamente espaçados em uma matriz de placas aletadas. A água quente entra nos tubos a 90°C a uma taxa de 0,6 kg/s e os deixa a 65°C. O ar escoa através do radiador pelos espaços entre aletas, sendo aquecido a partir de 20°C até 40°C. Determine o coeficiente global de transferência de calor Ui desse radiador com base na superfície interna dos tubos."
      ],
      "metadata": {
        "id": "B0WceVpsAjRD"
      }
    },
    {
      "cell_type": "code",
      "source": [
        ""
      ],
      "metadata": {
        "id": "i2t5lnPEBdBz"
      },
      "execution_count": null,
      "outputs": []
    },
    {
      "cell_type": "markdown",
      "source": [
        "###**9.7** Água fria entra em um trocador de calor contracorrente a 10°C a uma taxa de 8 kg/s, onde é aquecida por um escoamento de água quente que entra no trocador de calor a 70°C a uma taxa de 2 kg/s. Considerando que o calor específico da água se mantém constante em cp = 4,18 kJ/kg.K, determine a taxa máxima de transferência de calor e as temperaturas de saída dos escoamentos de água fria e quente para esse caso limite."
      ],
      "metadata": {
        "id": "qJIm197vA4YI"
      }
    },
    {
      "cell_type": "code",
      "source": [
        ""
      ],
      "metadata": {
        "id": "c-nuA-bKBdvL"
      },
      "execution_count": null,
      "outputs": []
    },
    {
      "cell_type": "markdown",
      "source": [
        "###**9.8** Um trocador de calor contracorrente de duplo tubo deve aquecer água de 20°C a 80°C a uma taxa de 1,2 kg/s. O aquecimento é obtido por água geotérmica disponível a 160°C com vazão mássica de 2 kg/s. O tubo interno tem parede fina e diâmetro de 1,5 cm. O coeficiente global de transferência de calor do trocador de calor é 640 W/m2.K. Usando o método da efetividade-NTU, determine o comprimento do trocador de calor necessário para alcançar o aquecimento desejado."
      ],
      "metadata": {
        "id": "FM5xIoQ_BAJS"
      }
    },
    {
      "cell_type": "code",
      "source": [
        ""
      ],
      "metadata": {
        "id": "BWokIQsLBeMr"
      },
      "execution_count": null,
      "outputs": []
    },
    {
      "cell_type": "markdown",
      "source": [
        "###**9.9** Óleo quente deve ser resfriado com água em um trocador de calor com 1 passe no casco e 8 passes nos tubos. Os tubos têm paredes finas de cobre e diâmetro interno de 1,4 cm. O comprimento de cada passe de tubo no trocador de calor é 5 m, e o coeficiente global de transferência de calor é 310 W/m2.K. A água escoa através dos tubos a uma taxa de 0,2 kg/s e o óleo escoa através do casco a uma taxa de 0,3 kg/s. Água e óleo entram com temperaturas de 20°C e 150°C, respectivamente. Determine a taxa de transferência de calor no trocador de calor e as temperaturas de saída da água e do óleo."
      ],
      "metadata": {
        "id": "54xuFEWQBLwU"
      }
    },
    {
      "cell_type": "code",
      "source": [
        ""
      ],
      "metadata": {
        "id": "8Nfmot65BewK"
      },
      "execution_count": null,
      "outputs": []
    }
  ]
}