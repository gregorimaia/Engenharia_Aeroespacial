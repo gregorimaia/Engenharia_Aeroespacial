{
  "nbformat": 4,
  "nbformat_minor": 0,
  "metadata": {
    "colab": {
      "name": "Trocadores_de_calor_Exercicios_Trans_Cal.ipynb",
      "provenance": [],
      "authorship_tag": "ABX9TyN4diAINQUzm/x1FXpGlBw/",
      "include_colab_link": true
    },
    "kernelspec": {
      "name": "python3",
      "display_name": "Python 3"
    },
    "language_info": {
      "name": "python"
    }
  },
  "cells": [
    {
      "cell_type": "markdown",
      "metadata": {
        "id": "view-in-github",
        "colab_type": "text"
      },
      "source": [
        "<a href=\"https://colab.research.google.com/github/gregorimaia/Engenharia_Aeroespacial/blob/main/Trocadores_de_calor_Exercicios_Trans_Cal.ipynb\" target=\"_parent\"><img src=\"https://colab.research.google.com/assets/colab-badge.svg\" alt=\"Open In Colab\"/></a>"
      ]
    },
    {
      "cell_type": "markdown",
      "source": [
        "### **9.1** Óleo quente deve ser resfriado em um trocador de calor de tubo duplo em contracor- rente. Os tubos de cobre internos têm diâmetro de 2 cm e espessura desprezível. O diâmetro interno do tubo externo (casco) é 3 cm. A água escoa através do tubo a uma taxa de 0,5 kg/s, e o óleo escoa através do casco a uma taxa de 0,8 kg/s. Consideran- do as temperaturas médias da água e do óleo como 45 °C e 80 °C, respectivamente, determine o coeficiente global de transferência de calor desse trocador de calor.\n"
      ],
      "metadata": {
        "id": "X4aPnoW2eATi"
      }
    },
    {
      "cell_type": "code",
      "execution_count": null,
      "metadata": {
        "id": "UIyxadRud_Vh"
      },
      "outputs": [],
      "source": [
        "# As propriedades da água a 45°C\n",
        "rho = 990.1   # kg/m^3\n",
        "Pr = 3.91\n",
        "k = 0.637     # W/m.K\n",
        "v = 0.602 * 10**(-6)    # m^2/s"
      ]
    },
    {
      "cell_type": "code",
      "source": [
        "# As propriedades do óleo a 80°C\n",
        "orho = 852    # kg/m^3\n",
        "oPr = 499.3\n",
        "ok = 0.138    # W/m.K\n",
        "ov = 3.794 * 10**(-5)   # m^2/s"
      ],
      "metadata": {
        "id": "tn2eUAMsaCBb"
      },
      "execution_count": null,
      "outputs": []
    },
    {
      "cell_type": "code",
      "source": [
        "# A velocidade média da água no tubo e o número de Reynolds\n",
        "m_dot = 0.5   #kg/s\n",
        "D = 0.02      #m\n",
        "pi = 3.14\n",
        "A_c = (1/4)*pi*D**2\n",
        "V = m_dot/(rho*A_c)\n",
        "print(\"A velocidade é: \",round(V,2),'m/s')\n",
        "Re = (V*D)/v\n",
        "print('O número de Reynolds é ',round(Re,2))"
      ],
      "metadata": {
        "colab": {
          "base_uri": "https://localhost:8080/"
        },
        "id": "Q0r7-GL-bLBt",
        "outputId": "058775a2-d83f-4d2c-946b-c7ae24a4fccc"
      },
      "execution_count": null,
      "outputs": [
        {
          "output_type": "stream",
          "name": "stdout",
          "text": [
            "A velocidade é:  1.61 m/s\n",
            "O número de Reynolds é  53431.18\n"
          ]
        }
      ]
    },
    {
      "cell_type": "markdown",
      "source": [
        "## O escoamento da água é turbulento por ser superior a 10000."
      ],
      "metadata": {
        "id": "y9gRg7hndNJL"
      }
    },
    {
      "cell_type": "code",
      "source": [
        "# Determinando o número de Nusselt\n",
        "Nu = 0.023*Re**0.8*Pr**0.4\n",
        "print('O número de Nusselt é: ', round(Nu,2))\n",
        "\n",
        "h_i = k/D*Nu\n",
        "print('O coeficiente de transferência de calor é: ', round(h_i,2), 'W/m^2.K')"
      ],
      "metadata": {
        "colab": {
          "base_uri": "https://localhost:8080/"
        },
        "id": "VhSZFH7-dcPu",
        "outputId": "afc05bea-a20d-4d96-c3d8-7759954f0adb"
      },
      "execution_count": null,
      "outputs": [
        {
          "output_type": "stream",
          "name": "stdout",
          "text": [
            "O número de Nusselt é:  240.34\n",
            "O coeficiente de transferência de calor é:  7654.98 W/m^2.K\n"
          ]
        }
      ]
    },
    {
      "cell_type": "markdown",
      "source": [
        "## Agora o mesmo procedimento para o óleo."
      ],
      "metadata": {
        "id": "F2hKgxGVesrz"
      }
    },
    {
      "cell_type": "code",
      "source": [
        "D_0 = 0.03 #m\n",
        "D_i = 0.02 #m\n",
        "Dh = D_0 - D_i# O diâmetro hidráulico \n",
        "print('O diâmetro hidráulico é ', round(Dh,2),'metros.')"
      ],
      "metadata": {
        "colab": {
          "base_uri": "https://localhost:8080/"
        },
        "id": "OS7uFQWrewJ9",
        "outputId": "9dae480f-f22d-493a-8413-ddfffc5ec7b8"
      },
      "execution_count": null,
      "outputs": [
        {
          "output_type": "stream",
          "name": "stdout",
          "text": [
            "O diâmetro hidráulico é  0.01 metros.\n"
          ]
        }
      ]
    },
    {
      "cell_type": "code",
      "source": [
        "# Velocidade média e o número de Reynolds para o óleo\n",
        "om_dot = 0.8 #kg/s\n",
        "oV = om_dot/(rho*((1/4)*pi*((D_0**2)-(D_i**2))))\n",
        "print('A velocidade média para o óleo é ', round(oV,2),'metros por segundo.')\n",
        "Re = (oV*Dh)/ov\n",
        "print('O número de Reynolds para o óleo é ', round(Re,2))"
      ],
      "metadata": {
        "colab": {
          "base_uri": "https://localhost:8080/"
        },
        "id": "Q7KT-k-Jfsot",
        "outputId": "d5c6ebc1-a891-4b92-8fbc-b33a88036846"
      },
      "execution_count": null,
      "outputs": [
        {
          "output_type": "stream",
          "name": "stdout",
          "text": [
            "A velocidade média para o óleo é  2.06 metros por segundo.\n",
            "O número de Reynolds para o óleo é  542.59\n"
          ]
        }
      ]
    },
    {
      "cell_type": "markdown",
      "source": [
        "## O escoamento é laminar por Reynolds ser inferior a 2300."
      ],
      "metadata": {
        "id": "4p_ge44jiZHn"
      }
    },
    {
      "cell_type": "code",
      "source": [
        "Nu = 5.45 # encontrado tabelado por interpolação\n",
        "h_0 = ok/Dh*Nu\n",
        "print(round(h_0,2))"
      ],
      "metadata": {
        "colab": {
          "base_uri": "https://localhost:8080/"
        },
        "id": "ZKwIpvxHihja",
        "outputId": "d1dd3fac-d6d7-4b16-8162-7dce17d78281"
      },
      "execution_count": null,
      "outputs": [
        {
          "output_type": "stream",
          "name": "stdout",
          "text": [
            "75.21\n"
          ]
        }
      ]
    },
    {
      "cell_type": "code",
      "source": [
        "# Coeficiente global de transferência de calor para o trocador de calor\n",
        "U = 1/((1/h_i)+(1/h_0))\n",
        "print('O coeficiente global de transferência de calor para o trocador de calor é: ', round(U, 2),'W/m^2.K')"
      ],
      "metadata": {
        "colab": {
          "base_uri": "https://localhost:8080/"
        },
        "id": "52dldzeejYrs",
        "outputId": "cbc9705b-1748-46ca-e7b5-2ba2578fb84e"
      },
      "execution_count": null,
      "outputs": [
        {
          "output_type": "stream",
          "name": "stdout",
          "text": [
            "O coeficiente global de transferência de calor para o trocador de calor é:  74.48 W/m^2.K\n"
          ]
        }
      ]
    },
    {
      "cell_type": "markdown",
      "source": [
        "### **9.2** Um trocador de calor de tubo duplo (casco e tubo) é construído com um tubo interno de aço inoxidável (k = 15,1 W/m.K) de diâmetro interno Di = 1,5 cm e diâmetro externo Do = 1,9 cm e um casco externo de diâmetro interno de 3,2 cm. O coeficiente de transferência de calor por convecção é dado como hi = 800 W/m2.K sobre a superfície interna do tubo e ho = 1200 W/m2.K sobre a superfície externa. Para um fator de incrustação de Rf,i = 0,0004 m2.K/W no lado do tubo e Rf,o = 0,0001 m2.K/W no lado do casco, determine (a) a resistência térmica do trocador de calor por unidade de comprimento e (b) os coeficientes globais de transferência de calor Ui e Uo com base nas superfícies interna e externa do tubo, respectivamente."
      ],
      "metadata": {
        "id": "-qVn5gb60WTD"
      }
    },
    {
      "cell_type": "code",
      "source": [
        "import math\n",
        "# (a)\n",
        "k = 15.1 #W/m.K \n",
        "Di = 0.015 #m diâmetro interno\n",
        "Do = 0.019 #m diâmetro externo\n",
        "Dei = 3.2 #cm diâmetro interno do casco externo\n",
        "hi = 800 #W/m^2.K coeficiente de transferência de calor por convecção sobre a superfície interna do tubo\n",
        "ho = 1200 #W/m^2.K coeficiente de transferência de calor por convecção sobre a superfície externa do tubo\n",
        "Rfi = 0.0004 #m^2.K/W fator de incrustração no lado do tubo\n",
        "Rfo = 0.0001 #m^2.K/W fator de incristração no lado do casco\n",
        "L = 1 #metro\n",
        "pi = 3.14\n",
        "# Área interna e externa:\n",
        "Ai = pi * Di * L\n",
        "Ao = pi * Do * L\n",
        "print('A área interna é ',round(Ai,4),'m^2 e a área externa é ',round(Ao,4),'m^2')\n",
        "# Resistência térmica total:\n",
        "R = (1/(hi*Ai))+(Rfi/Ai)+(math.log(Do/Di))/(2*pi*(k)*(L))+Rfo/Ao+1/(ho*Ao)\n",
        "print('A resistência térmica total é ',round(R,4),'°C/W')\n",
        "\n",
        "#(b)\n",
        "#Coeficientes globais de transferência de calor baseados nas superfícies interna e externa.\n",
        "Ui = 1/(R*Ai)\n",
        "Uo = 1/(R*Ao)\n",
        "print('Os coeficientes globais de transferência de calor baseados nas superfícies interna e externa, respectivamente são',round(Ui,2),'e',round(Uo,2),'W/m^2.K')"
      ],
      "metadata": {
        "colab": {
          "base_uri": "https://localhost:8080/"
        },
        "id": "3HTmf5vc1YsT",
        "outputId": "392ee24c-7e03-4a98-8fc5-096f7fa3339c"
      },
      "execution_count": 12,
      "outputs": [
        {
          "output_type": "stream",
          "name": "stdout",
          "text": [
            "A área interna é  0.0471 m^2 e a área externa é  0.0597 m^2\n",
            "A resistência térmica total é  0.0532 °C/W\n",
            "Os coeficientes globais de transferência de calor baseados nas superfícies interna e externa, respectivamente são 399.32 e 315.25 W/m^2.K\n"
          ]
        }
      ]
    },
    {
      "cell_type": "markdown",
      "source": [
        "###**9.3** Vapor no condensador de uma termoelétrica deve ser condensado a uma temperatura de 30°C com água de refrigeração de um lago próximo que entra nos tubos do condensador a 14°C e os deixa a 22°C. A superfície dos tubos tem 45 m2, e o coeficiente global de transferência de calor é 2100 W/m2.K. Determine (a) a vazão mássica necessária da água de resfriamento e (b) a taxa de condensação do vapor no condensador."
      ],
      "metadata": {
        "id": "3QoFuT7u-Vws"
      }
    }
  ]
}