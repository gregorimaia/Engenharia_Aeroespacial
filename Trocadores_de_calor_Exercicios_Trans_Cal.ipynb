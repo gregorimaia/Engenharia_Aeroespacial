{
  "nbformat": 4,
  "nbformat_minor": 0,
  "metadata": {
    "colab": {
      "name": "Trocadores_de_calor_Exercicios_Trans_Cal.ipynb",
      "provenance": [],
      "authorship_tag": "ABX9TyPvlc7uyz3JMKDBSkUk/5Wd",
      "include_colab_link": true
    },
    "kernelspec": {
      "name": "python3",
      "display_name": "Python 3"
    },
    "language_info": {
      "name": "python"
    }
  },
  "cells": [
    {
      "cell_type": "markdown",
      "metadata": {
        "id": "view-in-github",
        "colab_type": "text"
      },
      "source": [
        "<a href=\"https://colab.research.google.com/github/gregorimaia/Engenharia_Aeroespacial/blob/main/Trocadores_de_calor_Exercicios_Trans_Cal.ipynb\" target=\"_parent\"><img src=\"https://colab.research.google.com/assets/colab-badge.svg\" alt=\"Open In Colab\"/></a>"
      ]
    },
    {
      "cell_type": "markdown",
      "source": [
        "### **9.1** Óleo quente deve ser resfriado em um trocador de calor de tubo duplo em contracor- rente. Os tubos de cobre internos têm diâmetro de 2 cm e espessura desprezível. O diâmetro interno do tubo externo (casco) é 3 cm. A água escoa através do tubo a uma taxa de 0,5 kg/s, e o óleo escoa através do casco a uma taxa de 0,8 kg/s. Consideran- do as temperaturas médias da água e do óleo como 45 °C e 80 °C, respectivamente, determine o coeficiente global de transferência de calor desse trocador de calor.\n"
      ],
      "metadata": {
        "id": "X4aPnoW2eATi"
      }
    },
    {
      "cell_type": "markdown",
      "source": [
        "### Variáveis:"
      ],
      "metadata": {
        "id": "RVfhWolvf9NF"
      }
    },
    {
      "cell_type": "code",
      "execution_count": null,
      "metadata": {
        "id": "UIyxadRud_Vh"
      },
      "outputs": [],
      "source": [
        ""
      ]
    }
  ]
}