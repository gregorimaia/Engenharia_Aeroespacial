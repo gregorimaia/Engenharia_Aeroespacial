{
  "nbformat": 4,
  "nbformat_minor": 0,
  "metadata": {
    "colab": {
      "name": "loop_for_and_while_basico.ipynb",
      "provenance": [],
      "authorship_tag": "ABX9TyNCbfetlHPe1jDbHJT/CDpv",
      "include_colab_link": true
    },
    "kernelspec": {
      "name": "python3",
      "display_name": "Python 3"
    },
    "language_info": {
      "name": "python"
    }
  },
  "cells": [
    {
      "cell_type": "markdown",
      "metadata": {
        "id": "view-in-github",
        "colab_type": "text"
      },
      "source": [
        "<a href=\"https://colab.research.google.com/github/gregorimaia/Engenharia_Aeroespacial/blob/main/loop_for_and_while_basico.ipynb\" target=\"_parent\"><img src=\"https://colab.research.google.com/assets/colab-badge.svg\" alt=\"Open In Colab\"/></a>"
      ]
    },
    {
      "cell_type": "markdown",
      "metadata": {
        "id": "6cuqjrSOOnsa"
      },
      "source": [
        "#Localizando o número de letras em uma string."
      ]
    },
    {
      "cell_type": "code",
      "metadata": {
        "id": "30P78EhYOkK8"
      },
      "source": [
        "LetterNum = 1\n",
        "for Letter in \"papibaquigrafo\":\n",
        "  print(\"Letter \", LetterNum, \"is\", Letter)\n",
        "  LetterNum+=1    #Faz a contagem das letras."
      ],
      "execution_count": null,
      "outputs": []
    },
    {
      "cell_type": "markdown",
      "metadata": {
        "id": "v7bIYDwLPgSr"
      },
      "source": [
        "#Com input e condição de string."
      ]
    },
    {
      "cell_type": "code",
      "metadata": {
        "id": "e8ADqnHoQbqk"
      },
      "source": [
        "Value = input('Insira uma palavra de até 6 letras:')\n",
        "LetterNum = 1\n",
        "for Letter in Value:\n",
        "  print('Letter', LetterNum, 'is',Letter)\n",
        "  LetterNum+=1\n",
        "  if LetterNum>6:   #Da uma condição de entrada.\n",
        "    print('A palavra possui mis que 6 letras!')\n",
        "    break"
      ],
      "execution_count": null,
      "outputs": []
    },
    {
      "cell_type": "markdown",
      "metadata": {
        "id": "f9IPVfWmPldx"
      },
      "source": [
        "#Excetuando uma letra específica na contagem."
      ]
    },
    {
      "cell_type": "code",
      "metadata": {
        "id": "woo6VimkSKO7"
      },
      "source": [
        "Value = input('Insira uma palavra de até 6 letras:')\n",
        "LetterNum = 1\n",
        "for Letter in Value:\n",
        "  if Letter == \"g\":\n",
        "    continue\n",
        "    print('Encountered g, not processed.')\n",
        "  print('Letter', LetterNum, 'is',Letter)\n",
        "  LetterNum+=1\n",
        " "
      ],
      "execution_count": null,
      "outputs": []
    },
    {
      "cell_type": "markdown",
      "metadata": {
        "id": "DlOALtmhTnZh"
      },
      "source": [
        "#Excetuando letra com aviso."
      ]
    },
    {
      "cell_type": "code",
      "metadata": {
        "id": "L6Z9ZJKTTzB7"
      },
      "source": [
        "Value = input('Insira uma palavra de até 6 letras:')\n",
        "LetterNum = 1\n",
        "for Letter in Value:\n",
        "  if Letter == \"g\":\n",
        "    pass\n",
        "    print('Encountered g, not processed.')\n",
        "  print('Letter', LetterNum, 'is',Letter)\n",
        "  LetterNum+=1"
      ],
      "execution_count": null,
      "outputs": []
    },
    {
      "cell_type": "markdown",
      "metadata": {
        "id": "_E_s662pUP4y"
      },
      "source": [
        "#Nesting Loop Statements"
      ]
    },
    {
      "cell_type": "code",
      "metadata": {
        "id": "-eJYhGh3UXRh"
      },
      "source": [
        "x = 1\n",
        "y = 1\n",
        "print(('{:>4}'.format()))"
      ],
      "execution_count": null,
      "outputs": []
    }
  ]
}