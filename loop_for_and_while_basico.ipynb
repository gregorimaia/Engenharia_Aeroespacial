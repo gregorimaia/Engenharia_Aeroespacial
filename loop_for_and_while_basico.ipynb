{
  "nbformat": 4,
  "nbformat_minor": 0,
  "metadata": {
    "colab": {
      "name": "loop_for_and_while_basico.ipynb",
      "provenance": [],
      "authorship_tag": "ABX9TyOsSN573n8/pI9r+3I10Onf",
      "include_colab_link": true
    },
    "kernelspec": {
      "name": "python3",
      "display_name": "Python 3"
    },
    "language_info": {
      "name": "python"
    }
  },
  "cells": [
    {
      "cell_type": "markdown",
      "metadata": {
        "id": "view-in-github",
        "colab_type": "text"
      },
      "source": [
        "<a href=\"https://colab.research.google.com/github/gregorimaia/Engenharia_Aeroespacial/blob/main/loop_for_and_while_basico.ipynb\" target=\"_parent\"><img src=\"https://colab.research.google.com/assets/colab-badge.svg\" alt=\"Open In Colab\"/></a>"
      ]
    },
    {
      "cell_type": "markdown",
      "metadata": {
        "id": "6cuqjrSOOnsa"
      },
      "source": [
        "#Localizando o número de letras em uma string."
      ]
    },
    {
      "cell_type": "code",
      "metadata": {
        "id": "30P78EhYOkK8"
      },
      "source": [
        "LetterNum = 1\n",
        "for Letter in \"papibaquigrafo\":\n",
        "  print(\"Letter \", LetterNum, \"is\", Letter)\n",
        "  LetterNum+=1    #Faz a contagem das letras."
      ],
      "execution_count": null,
      "outputs": []
    },
    {
      "cell_type": "markdown",
      "metadata": {
        "id": "v7bIYDwLPgSr"
      },
      "source": [
        "#Com input e condição de string."
      ]
    },
    {
      "cell_type": "code",
      "metadata": {
        "id": "e8ADqnHoQbqk"
      },
      "source": [
        "Value = input('Insira uma palavra de até 6 letras:')\n",
        "LetterNum = 1\n",
        "for Letter in Value:\n",
        "  print('Letter', LetterNum, 'is',Letter)\n",
        "  LetterNum+=1\n",
        "  if LetterNum>6:   #Da uma condição de entrada.\n",
        "    print('A palavra possui mis que 6 letras!')\n",
        "    break"
      ],
      "execution_count": null,
      "outputs": []
    },
    {
      "cell_type": "markdown",
      "metadata": {
        "id": "f9IPVfWmPldx"
      },
      "source": [
        "#Excetuando uma letra específica na contagem."
      ]
    },
    {
      "cell_type": "code",
      "metadata": {
        "id": "woo6VimkSKO7"
      },
      "source": [
        "Value = input('Insira uma palavra de até 6 letras:')\n",
        "LetterNum = 1\n",
        "for Letter in Value:\n",
        "  if Letter == \"g\":\n",
        "    continue\n",
        "    print('Encountered g, not processed.')\n",
        "  print('Letter', LetterNum, 'is',Letter)\n",
        "  LetterNum+=1\n",
        " "
      ],
      "execution_count": null,
      "outputs": []
    },
    {
      "cell_type": "markdown",
      "metadata": {
        "id": "DlOALtmhTnZh"
      },
      "source": [
        "#Excetuando letra com aviso."
      ]
    },
    {
      "cell_type": "code",
      "metadata": {
        "id": "L6Z9ZJKTTzB7"
      },
      "source": [
        "Value = input('Insira uma palavra de até 6 letras:')\n",
        "LetterNum = 1\n",
        "for Letter in Value:\n",
        "  if Letter == \"g\":\n",
        "    pass\n",
        "    print('Encountered g, not processed.')\n",
        "  print('Letter', LetterNum, 'is',Letter)\n",
        "  LetterNum+=1"
      ],
      "execution_count": null,
      "outputs": []
    },
    {
      "cell_type": "markdown",
      "metadata": {
        "id": "_E_s662pUP4y"
      },
      "source": [
        "#Nesting Loop Statements\n",
        "##Esta tabela cria valores de 1x1 até 10x10"
      ]
    },
    {
      "cell_type": "code",
      "metadata": {
        "colab": {
          "base_uri": "https://localhost:8080/"
        },
        "id": "-eJYhGh3UXRh",
        "outputId": "c2a5c209-d85a-40c9-8e09-0120dde4b86f"
      },
      "source": [
        "x = 1                                     #Criação da variável linha\n",
        "y = 1                                     #Criação da variável coluna\n",
        "print('{:>4}'.format(' '), end= ' ')      #.format(' ') determina o que aparece no espaço     \n",
        "for x in range(1, 11):                    #range determina cria uma sequencia de numeros em que o primeiro é 1 e o último é 11\n",
        "  print('{:>4}'.format(x), end=' ')       #{:>4} determina o tamanho da coluna, ou seja, espaço para 4 caracteres para ficar alinhada a tabela\n",
        "print()                                   #print() adiciona um espaço no primeiro canto da tabela\n",
        "for x in range(1, 11):\n",
        "  print('{:>4}'.format(x), end= ' ')      # a função for diz para criar 10 linhas\n",
        "  while y<= 10:                           #o primeiro loop while mostra os números da primeira linha de 1 a 10, esse loop termina quando y é implementado com o próximo valor y+=1\n",
        "    print('{:>4}'.format(x * y), end=' ')\n",
        "    y+=1\n",
        "  print()                                 #print() mover para a próxima linha\n",
        "  y=1                                     #y é definido como 1, para que fique pronto para o início da próxima linha, que começa com 1"
      ],
      "execution_count": 29,
      "outputs": [
        {
          "output_type": "stream",
          "name": "stdout",
          "text": [
            "        1    2    3    4    5    6    7    8    9   10 \n",
            "   1    1    2    3    4    5    6    7    8    9   10 \n",
            "   2    2    4    6    8   10   12   14   16   18   20 \n",
            "   3    3    6    9   12   15   18   21   24   27   30 \n",
            "   4    4    8   12   16   20   24   28   32   36   40 \n",
            "   5    5   10   15   20   25   30   35   40   45   50 \n",
            "   6    6   12   18   24   30   36   42   48   54   60 \n",
            "   7    7   14   21   28   35   42   49   56   63   70 \n",
            "   8    8   16   24   32   40   48   56   64   72   80 \n",
            "   9    9   18   27   36   45   54   63   72   81   90 \n",
            "  10   10   20   30   40   50   60   70   80   90  100 \n"
          ]
        }
      ]
    }
  ]
}