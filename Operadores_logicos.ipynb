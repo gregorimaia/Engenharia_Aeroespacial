{
  "nbformat": 4,
  "nbformat_minor": 0,
  "metadata": {
    "colab": {
      "name": "Operadores_logicos",
      "provenance": [],
      "authorship_tag": "ABX9TyMnRPV8//TvFA/rUNWZdI4S",
      "include_colab_link": true
    },
    "kernelspec": {
      "name": "python3",
      "display_name": "Python 3"
    },
    "language_info": {
      "name": "python"
    }
  },
  "cells": [
    {
      "cell_type": "markdown",
      "metadata": {
        "id": "view-in-github",
        "colab_type": "text"
      },
      "source": [
        "<a href=\"https://colab.research.google.com/github/gregorimaia/Engenharia_Aeroespacial/blob/main/Operadores_logicos.ipynb\" target=\"_parent\"><img src=\"https://colab.research.google.com/assets/colab-badge.svg\" alt=\"Open In Colab\"/></a>"
      ]
    },
    {
      "cell_type": "markdown",
      "metadata": {
        "id": "vHFxhW5Ri0C_"
      },
      "source": [
        "# Operador and:\n",
        "## True and True = True\n",
        "## True and False = False\n",
        "## False and True = False\n",
        "## False and False = False\n",
        "\n",
        "```\n",
        "# Isto está formatado como código\n",
        "```\n",
        "\n"
      ]
    },
    {
      "cell_type": "markdown",
      "metadata": {
        "id": "3j0FFonGjxvX"
      },
      "source": [
        "# Operador or:\n",
        "## True or True = True\n",
        "## True or False = True\n",
        "## False or True = True\n",
        "## False or False = False"
      ]
    },
    {
      "cell_type": "markdown",
      "metadata": {
        "id": "ftAWCU8pkGi3"
      },
      "source": [
        "# Operador not\n",
        "## not True = False\n",
        "## not False = True"
      ]
    }
  ]
}